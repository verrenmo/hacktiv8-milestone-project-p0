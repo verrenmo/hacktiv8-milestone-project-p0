{
 "cells": [
  {
   "cell_type": "markdown",
   "metadata": {},
   "source": [
    "---\n",
    "---\n",
    "\n",
    "Milestone 1\n",
    "\n",
    "Nama    : Verren Monica\n",
    "\n",
    "Batch   : RMT - 038\n",
    "\n",
    "Dashboard link: [click here](https://public.tableau.com/app/profile/verren.monica/viz/milestones_db/Visualization?publish=yes)\n",
    "\n",
    "---\n",
    "---"
   ]
  },
  {
   "cell_type": "markdown",
   "metadata": {},
   "source": [
    "# 1. Identifikasi Masalah"
   ]
  },
  {
   "cell_type": "markdown",
   "metadata": {},
   "source": [
    "**Topik Permasalahan**: \n",
    "\n",
    "Menganalisa data penjualan gadget elektronik untuk meningkatkan penjualan di tahun 2025.\n",
    "\n",
    "**Latar Belakang**:\n",
    "\n",
    "Pemilik toko gadget elektronik ingin meningkatkan penjualan tahun 2025 dengan analisa tren produk. Pemilik toko juga ingin memahami bagaimana customer demographics dan customer purchase behaviour memiliki kolerasi dengan penjualan.\n",
    "\n",
    "**Problem Statement**:\n",
    "\n",
    "Specific: Menganalisis tren penjualan untuk menentukan strategi yang efektif dalam meningkatkan penjualan di tahun 2025.\n",
    "\n",
    "Measurable: Mengidentifikasi customer behaviour, tren penjualan perbulan, rating produk, untuk mendukung tujuan meningkatkan penjualan sebesar 20% di tahun 2025.\n",
    "\n",
    "Achievable: Menggunakan data penjualan periode September 2023 sampai September 2024.\n",
    "\n",
    "Relevant: Mendukung keinginan pemilik toko untuk meningkatkan penjualan, customer satisfaction, optimasi stok dan meningkatkan penilaian produk.\n",
    "\n",
    "Time-bound: Menyelesaikan analisis dalam 1 minggu untuk diberikan kepada pemilik toko sehingga dapat segera dilakukan evaluasi dan pengambilan keputusan untuk meningkatkan penjualan 2025.\n",
    "\n",
    "Melakukan analisa tren penjualan periode September 2023 sampai September 2024. Hasilnya akan membantu pemilik toko mengambil keputusan strategis untuk meningkatkan penjualan sebesar 20% di tahun 2025. Analisis ini mencakup customer behaviour, tren penjualan setiap bulan, dan rating produk yang dijual. Proses ini ditargetkan selesai dalam 1 minggu agar pemilik toko dapat segera mengevaluasi dan menerapkan langkah perbaikan.\n",
    "\n",
    "\n",
    "**Penjabaran Masalah**:\n",
    "\n",
    "- Berapa persentase jumlah cancelled order dan completed order? Apakah customer cancel order dikarenakan total amount yang tinggi?\n",
    "- Metode pembayaran apa yang paling sering dipilih customer?\n",
    "- Metode pengiriman apa yang paling sering dipilih customer?\n",
    "- Bagaimana tren penjualan setiap bulannya?\n",
    "- Bagaimana tren produk setiap bulannya? Berapa rata-rata produk terjual tiap bulan berdasarkan kategorinya?\n",
    "- Apakah ada perbedaan total spending tiap Gender?\n",
    "- Berapa rata-rata penjualan setiap bulannya? \n",
    "- Bagaimana distribusi usia customer?\n",
    "- Bagaimana rating tiap produk?\n",
    "- Add-on apa yang paling diminati customer?\n",
    "- Apakah ada korelasi antara kategori usia dan kategori produk?\n",
    "- Apakah ada korelasi antara loyalty member dan total spending?\n"
   ]
  },
  {
   "cell_type": "markdown",
   "metadata": {},
   "source": [
    "# 2. Data Loading"
   ]
  },
  {
   "cell_type": "markdown",
   "metadata": {},
   "source": [
    "Data set source: [click here](https://www.kaggle.com/datasets/cameronseamons/electronic-sales-sep2023-sep2024)"
   ]
  },
  {
   "cell_type": "code",
   "execution_count": 88,
   "metadata": {},
   "outputs": [],
   "source": [
    "# Import library yang akan digunakan\n",
    "import pandas as pd\n",
    "import matplotlib.pyplot as plt\n",
    "from scipy import stats\n",
    "import seaborn as sns"
   ]
  },
  {
   "cell_type": "code",
   "execution_count": 89,
   "metadata": {},
   "outputs": [
    {
     "data": {
      "text/html": [
       "<div>\n",
       "<style scoped>\n",
       "    .dataframe tbody tr th:only-of-type {\n",
       "        vertical-align: middle;\n",
       "    }\n",
       "\n",
       "    .dataframe tbody tr th {\n",
       "        vertical-align: top;\n",
       "    }\n",
       "\n",
       "    .dataframe thead th {\n",
       "        text-align: right;\n",
       "    }\n",
       "</style>\n",
       "<table border=\"1\" class=\"dataframe\">\n",
       "  <thead>\n",
       "    <tr style=\"text-align: right;\">\n",
       "      <th></th>\n",
       "      <th>Customer ID</th>\n",
       "      <th>Age</th>\n",
       "      <th>Gender</th>\n",
       "      <th>Loyalty Member</th>\n",
       "      <th>Product Type</th>\n",
       "      <th>SKU</th>\n",
       "      <th>Rating</th>\n",
       "      <th>Order Status</th>\n",
       "      <th>Payment Method</th>\n",
       "      <th>Total Price</th>\n",
       "      <th>Unit Price</th>\n",
       "      <th>Quantity</th>\n",
       "      <th>Purchase Date</th>\n",
       "      <th>Shipping Type</th>\n",
       "      <th>Add-ons Purchased</th>\n",
       "      <th>Add-on Total</th>\n",
       "    </tr>\n",
       "  </thead>\n",
       "  <tbody>\n",
       "    <tr>\n",
       "      <th>0</th>\n",
       "      <td>1000</td>\n",
       "      <td>53</td>\n",
       "      <td>Male</td>\n",
       "      <td>No</td>\n",
       "      <td>Smartphone</td>\n",
       "      <td>SKU1004</td>\n",
       "      <td>2</td>\n",
       "      <td>Cancelled</td>\n",
       "      <td>Credit Card</td>\n",
       "      <td>5538.33</td>\n",
       "      <td>791.19</td>\n",
       "      <td>7</td>\n",
       "      <td>3/20/2024</td>\n",
       "      <td>Standard</td>\n",
       "      <td>Accessory,Accessory,Accessory</td>\n",
       "      <td>40.21</td>\n",
       "    </tr>\n",
       "    <tr>\n",
       "      <th>1</th>\n",
       "      <td>1000</td>\n",
       "      <td>53</td>\n",
       "      <td>Male</td>\n",
       "      <td>No</td>\n",
       "      <td>Tablet</td>\n",
       "      <td>SKU1002</td>\n",
       "      <td>3</td>\n",
       "      <td>Completed</td>\n",
       "      <td>Paypal</td>\n",
       "      <td>741.09</td>\n",
       "      <td>247.03</td>\n",
       "      <td>3</td>\n",
       "      <td>4/20/2024</td>\n",
       "      <td>Overnight</td>\n",
       "      <td>Impulse Item</td>\n",
       "      <td>26.09</td>\n",
       "    </tr>\n",
       "    <tr>\n",
       "      <th>2</th>\n",
       "      <td>1002</td>\n",
       "      <td>41</td>\n",
       "      <td>Male</td>\n",
       "      <td>No</td>\n",
       "      <td>Laptop</td>\n",
       "      <td>SKU1005</td>\n",
       "      <td>3</td>\n",
       "      <td>Completed</td>\n",
       "      <td>Credit Card</td>\n",
       "      <td>1855.84</td>\n",
       "      <td>463.96</td>\n",
       "      <td>4</td>\n",
       "      <td>10/17/2023</td>\n",
       "      <td>Express</td>\n",
       "      <td>NaN</td>\n",
       "      <td>0.00</td>\n",
       "    </tr>\n",
       "    <tr>\n",
       "      <th>3</th>\n",
       "      <td>1002</td>\n",
       "      <td>41</td>\n",
       "      <td>Male</td>\n",
       "      <td>Yes</td>\n",
       "      <td>Smartphone</td>\n",
       "      <td>SKU1004</td>\n",
       "      <td>2</td>\n",
       "      <td>Completed</td>\n",
       "      <td>Cash</td>\n",
       "      <td>3164.76</td>\n",
       "      <td>791.19</td>\n",
       "      <td>4</td>\n",
       "      <td>8/9/2024</td>\n",
       "      <td>Overnight</td>\n",
       "      <td>Impulse Item,Impulse Item</td>\n",
       "      <td>60.16</td>\n",
       "    </tr>\n",
       "    <tr>\n",
       "      <th>4</th>\n",
       "      <td>1003</td>\n",
       "      <td>75</td>\n",
       "      <td>Male</td>\n",
       "      <td>Yes</td>\n",
       "      <td>Smartphone</td>\n",
       "      <td>SKU1001</td>\n",
       "      <td>5</td>\n",
       "      <td>Completed</td>\n",
       "      <td>Cash</td>\n",
       "      <td>41.50</td>\n",
       "      <td>20.75</td>\n",
       "      <td>2</td>\n",
       "      <td>5/21/2024</td>\n",
       "      <td>Express</td>\n",
       "      <td>Accessory</td>\n",
       "      <td>35.56</td>\n",
       "    </tr>\n",
       "    <tr>\n",
       "      <th>5</th>\n",
       "      <td>1004</td>\n",
       "      <td>41</td>\n",
       "      <td>Female</td>\n",
       "      <td>No</td>\n",
       "      <td>Smartphone</td>\n",
       "      <td>SKU1001</td>\n",
       "      <td>5</td>\n",
       "      <td>Completed</td>\n",
       "      <td>Credit Card</td>\n",
       "      <td>83.00</td>\n",
       "      <td>20.75</td>\n",
       "      <td>4</td>\n",
       "      <td>5/26/2024</td>\n",
       "      <td>Standard</td>\n",
       "      <td>Impulse Item,Accessory</td>\n",
       "      <td>65.78</td>\n",
       "    </tr>\n",
       "    <tr>\n",
       "      <th>6</th>\n",
       "      <td>1005</td>\n",
       "      <td>25</td>\n",
       "      <td>Female</td>\n",
       "      <td>No</td>\n",
       "      <td>Smartwatch</td>\n",
       "      <td>SKU1003</td>\n",
       "      <td>3</td>\n",
       "      <td>Completed</td>\n",
       "      <td>Paypal</td>\n",
       "      <td>7603.47</td>\n",
       "      <td>844.83</td>\n",
       "      <td>9</td>\n",
       "      <td>1/30/2024</td>\n",
       "      <td>Overnight</td>\n",
       "      <td>NaN</td>\n",
       "      <td>0.00</td>\n",
       "    </tr>\n",
       "    <tr>\n",
       "      <th>7</th>\n",
       "      <td>1005</td>\n",
       "      <td>25</td>\n",
       "      <td>Female</td>\n",
       "      <td>No</td>\n",
       "      <td>Laptop</td>\n",
       "      <td>SKU1005</td>\n",
       "      <td>3</td>\n",
       "      <td>Completed</td>\n",
       "      <td>Debit Card</td>\n",
       "      <td>4175.64</td>\n",
       "      <td>463.96</td>\n",
       "      <td>9</td>\n",
       "      <td>6/24/2024</td>\n",
       "      <td>Overnight</td>\n",
       "      <td>Extended Warranty,Extended Warranty</td>\n",
       "      <td>75.33</td>\n",
       "    </tr>\n",
       "    <tr>\n",
       "      <th>8</th>\n",
       "      <td>1006</td>\n",
       "      <td>24</td>\n",
       "      <td>Male</td>\n",
       "      <td>No</td>\n",
       "      <td>Smartphone</td>\n",
       "      <td>SKU1004</td>\n",
       "      <td>2</td>\n",
       "      <td>Cancelled</td>\n",
       "      <td>Debit Card</td>\n",
       "      <td>5538.33</td>\n",
       "      <td>791.19</td>\n",
       "      <td>7</td>\n",
       "      <td>10/3/2023</td>\n",
       "      <td>Standard</td>\n",
       "      <td>Impulse Item</td>\n",
       "      <td>43.05</td>\n",
       "    </tr>\n",
       "    <tr>\n",
       "      <th>9</th>\n",
       "      <td>1006</td>\n",
       "      <td>24</td>\n",
       "      <td>Male</td>\n",
       "      <td>Yes</td>\n",
       "      <td>Laptop</td>\n",
       "      <td>SKU1005</td>\n",
       "      <td>3</td>\n",
       "      <td>Completed</td>\n",
       "      <td>Cash</td>\n",
       "      <td>4175.64</td>\n",
       "      <td>463.96</td>\n",
       "      <td>9</td>\n",
       "      <td>1/1/2024</td>\n",
       "      <td>Express</td>\n",
       "      <td>NaN</td>\n",
       "      <td>0.00</td>\n",
       "    </tr>\n",
       "  </tbody>\n",
       "</table>\n",
       "</div>"
      ],
      "text/plain": [
       "   Customer ID  Age  Gender Loyalty Member Product Type      SKU  Rating  \\\n",
       "0         1000   53    Male             No   Smartphone  SKU1004       2   \n",
       "1         1000   53    Male             No       Tablet  SKU1002       3   \n",
       "2         1002   41    Male             No       Laptop  SKU1005       3   \n",
       "3         1002   41    Male            Yes   Smartphone  SKU1004       2   \n",
       "4         1003   75    Male            Yes   Smartphone  SKU1001       5   \n",
       "5         1004   41  Female             No   Smartphone  SKU1001       5   \n",
       "6         1005   25  Female             No   Smartwatch  SKU1003       3   \n",
       "7         1005   25  Female             No       Laptop  SKU1005       3   \n",
       "8         1006   24    Male             No   Smartphone  SKU1004       2   \n",
       "9         1006   24    Male            Yes       Laptop  SKU1005       3   \n",
       "\n",
       "  Order Status Payment Method  Total Price  Unit Price  Quantity  \\\n",
       "0    Cancelled    Credit Card      5538.33      791.19         7   \n",
       "1    Completed         Paypal       741.09      247.03         3   \n",
       "2    Completed    Credit Card      1855.84      463.96         4   \n",
       "3    Completed           Cash      3164.76      791.19         4   \n",
       "4    Completed           Cash        41.50       20.75         2   \n",
       "5    Completed    Credit Card        83.00       20.75         4   \n",
       "6    Completed         Paypal      7603.47      844.83         9   \n",
       "7    Completed     Debit Card      4175.64      463.96         9   \n",
       "8    Cancelled     Debit Card      5538.33      791.19         7   \n",
       "9    Completed           Cash      4175.64      463.96         9   \n",
       "\n",
       "  Purchase Date Shipping Type                    Add-ons Purchased  \\\n",
       "0     3/20/2024      Standard        Accessory,Accessory,Accessory   \n",
       "1     4/20/2024     Overnight                         Impulse Item   \n",
       "2    10/17/2023       Express                                  NaN   \n",
       "3      8/9/2024     Overnight            Impulse Item,Impulse Item   \n",
       "4     5/21/2024       Express                            Accessory   \n",
       "5     5/26/2024      Standard               Impulse Item,Accessory   \n",
       "6     1/30/2024     Overnight                                  NaN   \n",
       "7     6/24/2024     Overnight  Extended Warranty,Extended Warranty   \n",
       "8     10/3/2023      Standard                         Impulse Item   \n",
       "9      1/1/2024       Express                                  NaN   \n",
       "\n",
       "   Add-on Total  \n",
       "0         40.21  \n",
       "1         26.09  \n",
       "2          0.00  \n",
       "3         60.16  \n",
       "4         35.56  \n",
       "5         65.78  \n",
       "6          0.00  \n",
       "7         75.33  \n",
       "8         43.05  \n",
       "9          0.00  "
      ]
     },
     "execution_count": 89,
     "metadata": {},
     "output_type": "execute_result"
    }
   ],
   "source": [
    "# Menampilkan dataset yang digunakan\n",
    "df = pd.read_csv(\"electronicsales.csv\")\n",
    "df.head(10)"
   ]
  },
  {
   "cell_type": "markdown",
   "metadata": {},
   "source": [
    "Dari data yang ditampilkan, berikut adalah penjelasan masing-masing kolom:\n",
    "\n",
    "1. Customer ID: Unique ID untuk masing-masing customer\n",
    "\n",
    "2. Age: Umur customer\n",
    "\n",
    "3. Gender: Jenis kelamin customer (Female or Male)\n",
    "\n",
    "4. Loyalty Member: Apakah customer merupakan member (Yes/No)\n",
    "\n",
    "5. Product Type: Tipe produk yang dijual\n",
    "\n",
    "6. SKU: Unique ID untuk tiap produk\n",
    "\n",
    "7. Rating: Rating pelanggan terhadap produk \n",
    "\n",
    "8. Order status: Status order pelanggan (Completed or Cancelled)\n",
    "\n",
    "9. Payment Method: Metode pembayaran customer\n",
    "\n",
    "10. Total Price: Total pembelian customer (Unit Price * Quantity)\n",
    "\n",
    "11. Unit Price: Harga per produk (dollar)\n",
    "\n",
    "12. Quantity: Jumlah produk yang dibeli oleh customer\n",
    "\n",
    "13. Purchase Date: Tanggal pembelian dengan format YYYY-MM-DD\n",
    "\n",
    "14. Shipping Type: Tipe pengiriman produk yang dipilih oleh customer\n",
    "\n",
    "15. Add-ons Purchased: List additional item yang dibeli oleh customer\n",
    "\n",
    "16. Add-on Total: Total harga add-on yang dibeli oleh customer\n",
    "\n",
    "\n",
    "Dari data tesebut belum ada kolom total nominal yang harus dibayar customer (Total Price + Add-on Total) maka, akan dilakukan penambahan kolom. Oleh karena itu akan dilakukan penggantian nama kolom, `Total Price` menjadi `Amount Product`, `Add-on Total` menjadi `Amount Add-on` dan kolom baru berisi total nominal akan diberi nama `Total Amount`. Hal ini dilakukan agar penamaan tiap kolom lebih jelas dan tidak ambigu.\n",
    "\n",
    "Dalam melakukan pembelian, customer dapat memilih untuk membeli add-ons. Ada customer yang tidak membeli add-ons sama sekali dan ada customer yang membeli hingga 3 add-ons. Kolom add-ons akan dipisah menjadi 3 kolom untuk membantu mengetahui add-ons apa yang diminati oleh customer. Untuk customer yang tidak membeli Add-on akan diisi dengan \"None\"."
   ]
  },
  {
   "cell_type": "code",
   "execution_count": 90,
   "metadata": {},
   "outputs": [
    {
     "name": "stdout",
     "output_type": "stream",
     "text": [
      "<class 'pandas.core.frame.DataFrame'>\n",
      "RangeIndex: 20000 entries, 0 to 19999\n",
      "Data columns (total 16 columns):\n",
      " #   Column             Non-Null Count  Dtype  \n",
      "---  ------             --------------  -----  \n",
      " 0   Customer ID        20000 non-null  int64  \n",
      " 1   Age                20000 non-null  int64  \n",
      " 2   Gender             19999 non-null  object \n",
      " 3   Loyalty Member     20000 non-null  object \n",
      " 4   Product Type       20000 non-null  object \n",
      " 5   SKU                20000 non-null  object \n",
      " 6   Rating             20000 non-null  int64  \n",
      " 7   Order Status       20000 non-null  object \n",
      " 8   Payment Method     20000 non-null  object \n",
      " 9   Total Price        20000 non-null  float64\n",
      " 10  Unit Price         20000 non-null  float64\n",
      " 11  Quantity           20000 non-null  int64  \n",
      " 12  Purchase Date      20000 non-null  object \n",
      " 13  Shipping Type      20000 non-null  object \n",
      " 14  Add-ons Purchased  15132 non-null  object \n",
      " 15  Add-on Total       20000 non-null  float64\n",
      "dtypes: float64(3), int64(4), object(9)\n",
      "memory usage: 2.4+ MB\n"
     ]
    }
   ],
   "source": [
    "# Menampilkan informasi dataframe\n",
    "df.info()"
   ]
  },
  {
   "cell_type": "markdown",
   "metadata": {},
   "source": [
    "Dar info dataframe, kolom Purchase Date harus diganti tipe datanya menjadi tipe data date. Untuk kolom lainnya sudah sesuai  dengan tipe data seharusnya."
   ]
  },
  {
   "cell_type": "code",
   "execution_count": 91,
   "metadata": {},
   "outputs": [
    {
     "data": {
      "text/plain": [
       "Customer ID             0\n",
       "Age                     0\n",
       "Gender                  1\n",
       "Loyalty Member          0\n",
       "Product Type            0\n",
       "SKU                     0\n",
       "Rating                  0\n",
       "Order Status            0\n",
       "Payment Method          0\n",
       "Total Price             0\n",
       "Unit Price              0\n",
       "Quantity                0\n",
       "Purchase Date           0\n",
       "Shipping Type           0\n",
       "Add-ons Purchased    4868\n",
       "Add-on Total            0\n",
       "dtype: int64"
      ]
     },
     "execution_count": 91,
     "metadata": {},
     "output_type": "execute_result"
    }
   ],
   "source": [
    "# Menampilkan informasi missing value\n",
    "df.isna().sum()"
   ]
  },
  {
   "cell_type": "markdown",
   "metadata": {},
   "source": [
    "Untuk missing value gender akan dilakukan imputasi dengan \"Unknown\". Hal ini mungkin terjadi karena beberapa hal seperti customer lupa mengisi kolom gender atau karena customer tidak ingin memberikan informasi gendernya.\n",
    "\n",
    "Untuk missing value pada kolom Add-ons Purchased akan diisi dengan \"None\" setelah kolom di split menjadi 3. \"None\" artinya customer tidak membeli Add-ons."
   ]
  },
  {
   "cell_type": "code",
   "execution_count": 92,
   "metadata": {},
   "outputs": [
    {
     "data": {
      "text/plain": [
       "array(['Smartphone', 'Tablet', 'Laptop', 'Smartwatch', 'Headphones'],\n",
       "      dtype=object)"
      ]
     },
     "execution_count": 92,
     "metadata": {},
     "output_type": "execute_result"
    }
   ],
   "source": [
    "# Memeriksa unique value pada tipe produk\n",
    "df['Product Type'].unique()"
   ]
  },
  {
   "cell_type": "code",
   "execution_count": 93,
   "metadata": {},
   "outputs": [
    {
     "data": {
      "text/plain": [
       "array(['Male', 'Female', nan], dtype=object)"
      ]
     },
     "execution_count": 93,
     "metadata": {},
     "output_type": "execute_result"
    }
   ],
   "source": [
    "# Memeriksa unique value pada gender\n",
    "df['Gender'].unique()"
   ]
  },
  {
   "cell_type": "code",
   "execution_count": 94,
   "metadata": {},
   "outputs": [
    {
     "data": {
      "text/plain": [
       "array(['SKU1004', 'SKU1002', 'SKU1005', 'SKU1001', 'SKU1003', 'LTP123',\n",
       "       'SMP234', 'TBL345', 'HDP456', 'SWT567'], dtype=object)"
      ]
     },
     "execution_count": 94,
     "metadata": {},
     "output_type": "execute_result"
    }
   ],
   "source": [
    "# Memeriksa unique value pada SKU\n",
    "df['SKU'].unique()"
   ]
  },
  {
   "cell_type": "code",
   "execution_count": 95,
   "metadata": {},
   "outputs": [
    {
     "data": {
      "text/plain": [
       "array([2, 3, 5, 1, 4])"
      ]
     },
     "execution_count": 95,
     "metadata": {},
     "output_type": "execute_result"
    }
   ],
   "source": [
    "# Memeriksa unique value pada rating\n",
    "df['Rating'].unique()"
   ]
  },
  {
   "cell_type": "code",
   "execution_count": 96,
   "metadata": {},
   "outputs": [
    {
     "data": {
      "text/plain": [
       "array(['Cancelled', 'Completed'], dtype=object)"
      ]
     },
     "execution_count": 96,
     "metadata": {},
     "output_type": "execute_result"
    }
   ],
   "source": [
    "# Memeriksa unique value pada order status\n",
    "df['Order Status'].unique()"
   ]
  },
  {
   "cell_type": "code",
   "execution_count": 97,
   "metadata": {},
   "outputs": [
    {
     "data": {
      "text/plain": [
       "array(['Standard', 'Overnight', 'Express', 'Same Day', 'Expedited'],\n",
       "      dtype=object)"
      ]
     },
     "execution_count": 97,
     "metadata": {},
     "output_type": "execute_result"
    }
   ],
   "source": [
    "# Memeriksa unique value pada shipping type\n",
    "df['Shipping Type'].unique()"
   ]
  },
  {
   "cell_type": "code",
   "execution_count": 98,
   "metadata": {},
   "outputs": [
    {
     "data": {
      "text/plain": [
       "array(['Credit Card', 'Paypal', 'Cash', 'Debit Card', 'Bank Transfer',\n",
       "       'PayPal'], dtype=object)"
      ]
     },
     "execution_count": 98,
     "metadata": {},
     "output_type": "execute_result"
    }
   ],
   "source": [
    "# Memeriksa unique value pada payment method\n",
    "df['Payment Method'].unique()"
   ]
  },
  {
   "cell_type": "markdown",
   "metadata": {},
   "source": [
    "Dari hasil pemeriksaan unique value beberapa hal yang ditemukan adalah:\n",
    "\n",
    "1. Kolom Gender memiliki missing value\n",
    "\n",
    "2. Ada 5 kategori produk dan ada 10 jenis produk berdasarkan SKU\n",
    "\n",
    "3. Rating dinilai dari 1-5. Rating 5 artinya sangat memuaskan.\n",
    "\n",
    "4. Ada 2 order status, Cancelled untuk order yang dibatalkan dan Completed untuk order yang berhasil selesai.\n",
    "\n",
    "5. Ada 5 tipe jenis pengiriman\n",
    "\n",
    "6. Ada 5 tipe jenis pembayaran. Untuk PayPal harus diseragamkan karena ada Paypal dan PayPal.\n"
   ]
  },
  {
   "cell_type": "markdown",
   "metadata": {},
   "source": [
    "# 3. Data Cleaning\n"
   ]
  },
  {
   "cell_type": "markdown",
   "metadata": {},
   "source": [
    "Dalam tahap ini akan dilakukan beberapa hal untuk menyiapkan data sebelum diolah, diantaranya adalah:\n",
    "\n",
    "1. Membuat kolom baru `Total Amount`\n",
    "\n",
    "2. Mengganti nama kolom `Total Price` dan `Add-on Total`\n",
    "\n",
    "3. Mengganti `Paypal` menjadi `PayPal` pada kolom `Payment Method`\n",
    "\n",
    "3. Memecah kolom `Add-ons Purchased` menjadi 3 kolom\n",
    "\n",
    "4. Handling missing value\n",
    "\n",
    "5. Mengganti tipe data kolom `Date`\n",
    "\n"
   ]
  },
  {
   "cell_type": "markdown",
   "metadata": {},
   "source": [
    "## 3.1. Membuat Kolom Total Amount"
   ]
  },
  {
   "cell_type": "markdown",
   "metadata": {},
   "source": [
    "Membuat kolom baru yaitu `Total Amount` yang di peroleh dari `Total Price` + `Add-on Total` tujuannya supaya dapat mengetahui total spending tiap customer."
   ]
  },
  {
   "cell_type": "code",
   "execution_count": 99,
   "metadata": {},
   "outputs": [
    {
     "data": {
      "text/html": [
       "<div>\n",
       "<style scoped>\n",
       "    .dataframe tbody tr th:only-of-type {\n",
       "        vertical-align: middle;\n",
       "    }\n",
       "\n",
       "    .dataframe tbody tr th {\n",
       "        vertical-align: top;\n",
       "    }\n",
       "\n",
       "    .dataframe thead th {\n",
       "        text-align: right;\n",
       "    }\n",
       "</style>\n",
       "<table border=\"1\" class=\"dataframe\">\n",
       "  <thead>\n",
       "    <tr style=\"text-align: right;\">\n",
       "      <th></th>\n",
       "      <th>Customer ID</th>\n",
       "      <th>Age</th>\n",
       "      <th>Gender</th>\n",
       "      <th>Loyalty Member</th>\n",
       "      <th>Product Type</th>\n",
       "      <th>SKU</th>\n",
       "      <th>Rating</th>\n",
       "      <th>Order Status</th>\n",
       "      <th>Payment Method</th>\n",
       "      <th>Total Price</th>\n",
       "      <th>Unit Price</th>\n",
       "      <th>Quantity</th>\n",
       "      <th>Purchase Date</th>\n",
       "      <th>Shipping Type</th>\n",
       "      <th>Add-ons Purchased</th>\n",
       "      <th>Add-on Total</th>\n",
       "      <th>Total Amount</th>\n",
       "    </tr>\n",
       "  </thead>\n",
       "  <tbody>\n",
       "    <tr>\n",
       "      <th>0</th>\n",
       "      <td>1000</td>\n",
       "      <td>53</td>\n",
       "      <td>Male</td>\n",
       "      <td>No</td>\n",
       "      <td>Smartphone</td>\n",
       "      <td>SKU1004</td>\n",
       "      <td>2</td>\n",
       "      <td>Cancelled</td>\n",
       "      <td>Credit Card</td>\n",
       "      <td>5538.33</td>\n",
       "      <td>791.19</td>\n",
       "      <td>7</td>\n",
       "      <td>3/20/2024</td>\n",
       "      <td>Standard</td>\n",
       "      <td>Accessory,Accessory,Accessory</td>\n",
       "      <td>40.21</td>\n",
       "      <td>5578.54</td>\n",
       "    </tr>\n",
       "    <tr>\n",
       "      <th>1</th>\n",
       "      <td>1000</td>\n",
       "      <td>53</td>\n",
       "      <td>Male</td>\n",
       "      <td>No</td>\n",
       "      <td>Tablet</td>\n",
       "      <td>SKU1002</td>\n",
       "      <td>3</td>\n",
       "      <td>Completed</td>\n",
       "      <td>Paypal</td>\n",
       "      <td>741.09</td>\n",
       "      <td>247.03</td>\n",
       "      <td>3</td>\n",
       "      <td>4/20/2024</td>\n",
       "      <td>Overnight</td>\n",
       "      <td>Impulse Item</td>\n",
       "      <td>26.09</td>\n",
       "      <td>767.18</td>\n",
       "    </tr>\n",
       "    <tr>\n",
       "      <th>2</th>\n",
       "      <td>1002</td>\n",
       "      <td>41</td>\n",
       "      <td>Male</td>\n",
       "      <td>No</td>\n",
       "      <td>Laptop</td>\n",
       "      <td>SKU1005</td>\n",
       "      <td>3</td>\n",
       "      <td>Completed</td>\n",
       "      <td>Credit Card</td>\n",
       "      <td>1855.84</td>\n",
       "      <td>463.96</td>\n",
       "      <td>4</td>\n",
       "      <td>10/17/2023</td>\n",
       "      <td>Express</td>\n",
       "      <td>NaN</td>\n",
       "      <td>0.00</td>\n",
       "      <td>1855.84</td>\n",
       "    </tr>\n",
       "    <tr>\n",
       "      <th>3</th>\n",
       "      <td>1002</td>\n",
       "      <td>41</td>\n",
       "      <td>Male</td>\n",
       "      <td>Yes</td>\n",
       "      <td>Smartphone</td>\n",
       "      <td>SKU1004</td>\n",
       "      <td>2</td>\n",
       "      <td>Completed</td>\n",
       "      <td>Cash</td>\n",
       "      <td>3164.76</td>\n",
       "      <td>791.19</td>\n",
       "      <td>4</td>\n",
       "      <td>8/9/2024</td>\n",
       "      <td>Overnight</td>\n",
       "      <td>Impulse Item,Impulse Item</td>\n",
       "      <td>60.16</td>\n",
       "      <td>3224.92</td>\n",
       "    </tr>\n",
       "    <tr>\n",
       "      <th>4</th>\n",
       "      <td>1003</td>\n",
       "      <td>75</td>\n",
       "      <td>Male</td>\n",
       "      <td>Yes</td>\n",
       "      <td>Smartphone</td>\n",
       "      <td>SKU1001</td>\n",
       "      <td>5</td>\n",
       "      <td>Completed</td>\n",
       "      <td>Cash</td>\n",
       "      <td>41.50</td>\n",
       "      <td>20.75</td>\n",
       "      <td>2</td>\n",
       "      <td>5/21/2024</td>\n",
       "      <td>Express</td>\n",
       "      <td>Accessory</td>\n",
       "      <td>35.56</td>\n",
       "      <td>77.06</td>\n",
       "    </tr>\n",
       "    <tr>\n",
       "      <th>5</th>\n",
       "      <td>1004</td>\n",
       "      <td>41</td>\n",
       "      <td>Female</td>\n",
       "      <td>No</td>\n",
       "      <td>Smartphone</td>\n",
       "      <td>SKU1001</td>\n",
       "      <td>5</td>\n",
       "      <td>Completed</td>\n",
       "      <td>Credit Card</td>\n",
       "      <td>83.00</td>\n",
       "      <td>20.75</td>\n",
       "      <td>4</td>\n",
       "      <td>5/26/2024</td>\n",
       "      <td>Standard</td>\n",
       "      <td>Impulse Item,Accessory</td>\n",
       "      <td>65.78</td>\n",
       "      <td>148.78</td>\n",
       "    </tr>\n",
       "    <tr>\n",
       "      <th>6</th>\n",
       "      <td>1005</td>\n",
       "      <td>25</td>\n",
       "      <td>Female</td>\n",
       "      <td>No</td>\n",
       "      <td>Smartwatch</td>\n",
       "      <td>SKU1003</td>\n",
       "      <td>3</td>\n",
       "      <td>Completed</td>\n",
       "      <td>Paypal</td>\n",
       "      <td>7603.47</td>\n",
       "      <td>844.83</td>\n",
       "      <td>9</td>\n",
       "      <td>1/30/2024</td>\n",
       "      <td>Overnight</td>\n",
       "      <td>NaN</td>\n",
       "      <td>0.00</td>\n",
       "      <td>7603.47</td>\n",
       "    </tr>\n",
       "    <tr>\n",
       "      <th>7</th>\n",
       "      <td>1005</td>\n",
       "      <td>25</td>\n",
       "      <td>Female</td>\n",
       "      <td>No</td>\n",
       "      <td>Laptop</td>\n",
       "      <td>SKU1005</td>\n",
       "      <td>3</td>\n",
       "      <td>Completed</td>\n",
       "      <td>Debit Card</td>\n",
       "      <td>4175.64</td>\n",
       "      <td>463.96</td>\n",
       "      <td>9</td>\n",
       "      <td>6/24/2024</td>\n",
       "      <td>Overnight</td>\n",
       "      <td>Extended Warranty,Extended Warranty</td>\n",
       "      <td>75.33</td>\n",
       "      <td>4250.97</td>\n",
       "    </tr>\n",
       "    <tr>\n",
       "      <th>8</th>\n",
       "      <td>1006</td>\n",
       "      <td>24</td>\n",
       "      <td>Male</td>\n",
       "      <td>No</td>\n",
       "      <td>Smartphone</td>\n",
       "      <td>SKU1004</td>\n",
       "      <td>2</td>\n",
       "      <td>Cancelled</td>\n",
       "      <td>Debit Card</td>\n",
       "      <td>5538.33</td>\n",
       "      <td>791.19</td>\n",
       "      <td>7</td>\n",
       "      <td>10/3/2023</td>\n",
       "      <td>Standard</td>\n",
       "      <td>Impulse Item</td>\n",
       "      <td>43.05</td>\n",
       "      <td>5581.38</td>\n",
       "    </tr>\n",
       "    <tr>\n",
       "      <th>9</th>\n",
       "      <td>1006</td>\n",
       "      <td>24</td>\n",
       "      <td>Male</td>\n",
       "      <td>Yes</td>\n",
       "      <td>Laptop</td>\n",
       "      <td>SKU1005</td>\n",
       "      <td>3</td>\n",
       "      <td>Completed</td>\n",
       "      <td>Cash</td>\n",
       "      <td>4175.64</td>\n",
       "      <td>463.96</td>\n",
       "      <td>9</td>\n",
       "      <td>1/1/2024</td>\n",
       "      <td>Express</td>\n",
       "      <td>NaN</td>\n",
       "      <td>0.00</td>\n",
       "      <td>4175.64</td>\n",
       "    </tr>\n",
       "  </tbody>\n",
       "</table>\n",
       "</div>"
      ],
      "text/plain": [
       "   Customer ID  Age  Gender Loyalty Member Product Type      SKU  Rating  \\\n",
       "0         1000   53    Male             No   Smartphone  SKU1004       2   \n",
       "1         1000   53    Male             No       Tablet  SKU1002       3   \n",
       "2         1002   41    Male             No       Laptop  SKU1005       3   \n",
       "3         1002   41    Male            Yes   Smartphone  SKU1004       2   \n",
       "4         1003   75    Male            Yes   Smartphone  SKU1001       5   \n",
       "5         1004   41  Female             No   Smartphone  SKU1001       5   \n",
       "6         1005   25  Female             No   Smartwatch  SKU1003       3   \n",
       "7         1005   25  Female             No       Laptop  SKU1005       3   \n",
       "8         1006   24    Male             No   Smartphone  SKU1004       2   \n",
       "9         1006   24    Male            Yes       Laptop  SKU1005       3   \n",
       "\n",
       "  Order Status Payment Method  Total Price  Unit Price  Quantity  \\\n",
       "0    Cancelled    Credit Card      5538.33      791.19         7   \n",
       "1    Completed         Paypal       741.09      247.03         3   \n",
       "2    Completed    Credit Card      1855.84      463.96         4   \n",
       "3    Completed           Cash      3164.76      791.19         4   \n",
       "4    Completed           Cash        41.50       20.75         2   \n",
       "5    Completed    Credit Card        83.00       20.75         4   \n",
       "6    Completed         Paypal      7603.47      844.83         9   \n",
       "7    Completed     Debit Card      4175.64      463.96         9   \n",
       "8    Cancelled     Debit Card      5538.33      791.19         7   \n",
       "9    Completed           Cash      4175.64      463.96         9   \n",
       "\n",
       "  Purchase Date Shipping Type                    Add-ons Purchased  \\\n",
       "0     3/20/2024      Standard        Accessory,Accessory,Accessory   \n",
       "1     4/20/2024     Overnight                         Impulse Item   \n",
       "2    10/17/2023       Express                                  NaN   \n",
       "3      8/9/2024     Overnight            Impulse Item,Impulse Item   \n",
       "4     5/21/2024       Express                            Accessory   \n",
       "5     5/26/2024      Standard               Impulse Item,Accessory   \n",
       "6     1/30/2024     Overnight                                  NaN   \n",
       "7     6/24/2024     Overnight  Extended Warranty,Extended Warranty   \n",
       "8     10/3/2023      Standard                         Impulse Item   \n",
       "9      1/1/2024       Express                                  NaN   \n",
       "\n",
       "   Add-on Total  Total Amount  \n",
       "0         40.21       5578.54  \n",
       "1         26.09        767.18  \n",
       "2          0.00       1855.84  \n",
       "3         60.16       3224.92  \n",
       "4         35.56         77.06  \n",
       "5         65.78        148.78  \n",
       "6          0.00       7603.47  \n",
       "7         75.33       4250.97  \n",
       "8         43.05       5581.38  \n",
       "9          0.00       4175.64  "
      ]
     },
     "execution_count": 99,
     "metadata": {},
     "output_type": "execute_result"
    }
   ],
   "source": [
    "# Membuat kolom total amount\n",
    "df['Total Amount'] = df['Total Price'] + df['Add-on Total']\n",
    "df.head(10)"
   ]
  },
  {
   "cell_type": "markdown",
   "metadata": {},
   "source": [
    "## 3.2. Mengganti Nama Kolom"
   ]
  },
  {
   "cell_type": "markdown",
   "metadata": {},
   "source": [
    "Mengganti nama kolom `Total Price` menjadi `Amount Product` dan kolom `Add-on Total` menjadi `Amount Add-on`."
   ]
  },
  {
   "cell_type": "code",
   "execution_count": 100,
   "metadata": {},
   "outputs": [],
   "source": [
    "# Mengganti nama kolom Total Price menjadi Amount Product\n",
    "df.rename(columns = {'Total Price': 'Amount Product'}, inplace = True )"
   ]
  },
  {
   "cell_type": "code",
   "execution_count": 101,
   "metadata": {},
   "outputs": [],
   "source": [
    "# Mengganti nama kolom Add-on Total menjadi Amount Add-on\n",
    "df.rename(columns = {'Add-on Total': 'Amount Add-on'}, inplace = True )"
   ]
  },
  {
   "cell_type": "code",
   "execution_count": 102,
   "metadata": {},
   "outputs": [
    {
     "data": {
      "text/html": [
       "<div>\n",
       "<style scoped>\n",
       "    .dataframe tbody tr th:only-of-type {\n",
       "        vertical-align: middle;\n",
       "    }\n",
       "\n",
       "    .dataframe tbody tr th {\n",
       "        vertical-align: top;\n",
       "    }\n",
       "\n",
       "    .dataframe thead th {\n",
       "        text-align: right;\n",
       "    }\n",
       "</style>\n",
       "<table border=\"1\" class=\"dataframe\">\n",
       "  <thead>\n",
       "    <tr style=\"text-align: right;\">\n",
       "      <th></th>\n",
       "      <th>Customer ID</th>\n",
       "      <th>Age</th>\n",
       "      <th>Gender</th>\n",
       "      <th>Loyalty Member</th>\n",
       "      <th>Product Type</th>\n",
       "      <th>SKU</th>\n",
       "      <th>Rating</th>\n",
       "      <th>Order Status</th>\n",
       "      <th>Payment Method</th>\n",
       "      <th>Amount Product</th>\n",
       "      <th>Unit Price</th>\n",
       "      <th>Quantity</th>\n",
       "      <th>Purchase Date</th>\n",
       "      <th>Shipping Type</th>\n",
       "      <th>Add-ons Purchased</th>\n",
       "      <th>Amount Add-on</th>\n",
       "      <th>Total Amount</th>\n",
       "    </tr>\n",
       "  </thead>\n",
       "  <tbody>\n",
       "    <tr>\n",
       "      <th>0</th>\n",
       "      <td>1000</td>\n",
       "      <td>53</td>\n",
       "      <td>Male</td>\n",
       "      <td>No</td>\n",
       "      <td>Smartphone</td>\n",
       "      <td>SKU1004</td>\n",
       "      <td>2</td>\n",
       "      <td>Cancelled</td>\n",
       "      <td>Credit Card</td>\n",
       "      <td>5538.33</td>\n",
       "      <td>791.19</td>\n",
       "      <td>7</td>\n",
       "      <td>3/20/2024</td>\n",
       "      <td>Standard</td>\n",
       "      <td>Accessory,Accessory,Accessory</td>\n",
       "      <td>40.21</td>\n",
       "      <td>5578.54</td>\n",
       "    </tr>\n",
       "    <tr>\n",
       "      <th>1</th>\n",
       "      <td>1000</td>\n",
       "      <td>53</td>\n",
       "      <td>Male</td>\n",
       "      <td>No</td>\n",
       "      <td>Tablet</td>\n",
       "      <td>SKU1002</td>\n",
       "      <td>3</td>\n",
       "      <td>Completed</td>\n",
       "      <td>Paypal</td>\n",
       "      <td>741.09</td>\n",
       "      <td>247.03</td>\n",
       "      <td>3</td>\n",
       "      <td>4/20/2024</td>\n",
       "      <td>Overnight</td>\n",
       "      <td>Impulse Item</td>\n",
       "      <td>26.09</td>\n",
       "      <td>767.18</td>\n",
       "    </tr>\n",
       "    <tr>\n",
       "      <th>2</th>\n",
       "      <td>1002</td>\n",
       "      <td>41</td>\n",
       "      <td>Male</td>\n",
       "      <td>No</td>\n",
       "      <td>Laptop</td>\n",
       "      <td>SKU1005</td>\n",
       "      <td>3</td>\n",
       "      <td>Completed</td>\n",
       "      <td>Credit Card</td>\n",
       "      <td>1855.84</td>\n",
       "      <td>463.96</td>\n",
       "      <td>4</td>\n",
       "      <td>10/17/2023</td>\n",
       "      <td>Express</td>\n",
       "      <td>NaN</td>\n",
       "      <td>0.00</td>\n",
       "      <td>1855.84</td>\n",
       "    </tr>\n",
       "    <tr>\n",
       "      <th>3</th>\n",
       "      <td>1002</td>\n",
       "      <td>41</td>\n",
       "      <td>Male</td>\n",
       "      <td>Yes</td>\n",
       "      <td>Smartphone</td>\n",
       "      <td>SKU1004</td>\n",
       "      <td>2</td>\n",
       "      <td>Completed</td>\n",
       "      <td>Cash</td>\n",
       "      <td>3164.76</td>\n",
       "      <td>791.19</td>\n",
       "      <td>4</td>\n",
       "      <td>8/9/2024</td>\n",
       "      <td>Overnight</td>\n",
       "      <td>Impulse Item,Impulse Item</td>\n",
       "      <td>60.16</td>\n",
       "      <td>3224.92</td>\n",
       "    </tr>\n",
       "    <tr>\n",
       "      <th>4</th>\n",
       "      <td>1003</td>\n",
       "      <td>75</td>\n",
       "      <td>Male</td>\n",
       "      <td>Yes</td>\n",
       "      <td>Smartphone</td>\n",
       "      <td>SKU1001</td>\n",
       "      <td>5</td>\n",
       "      <td>Completed</td>\n",
       "      <td>Cash</td>\n",
       "      <td>41.50</td>\n",
       "      <td>20.75</td>\n",
       "      <td>2</td>\n",
       "      <td>5/21/2024</td>\n",
       "      <td>Express</td>\n",
       "      <td>Accessory</td>\n",
       "      <td>35.56</td>\n",
       "      <td>77.06</td>\n",
       "    </tr>\n",
       "  </tbody>\n",
       "</table>\n",
       "</div>"
      ],
      "text/plain": [
       "   Customer ID  Age Gender Loyalty Member Product Type      SKU  Rating  \\\n",
       "0         1000   53   Male             No   Smartphone  SKU1004       2   \n",
       "1         1000   53   Male             No       Tablet  SKU1002       3   \n",
       "2         1002   41   Male             No       Laptop  SKU1005       3   \n",
       "3         1002   41   Male            Yes   Smartphone  SKU1004       2   \n",
       "4         1003   75   Male            Yes   Smartphone  SKU1001       5   \n",
       "\n",
       "  Order Status Payment Method  Amount Product  Unit Price  Quantity  \\\n",
       "0    Cancelled    Credit Card         5538.33      791.19         7   \n",
       "1    Completed         Paypal          741.09      247.03         3   \n",
       "2    Completed    Credit Card         1855.84      463.96         4   \n",
       "3    Completed           Cash         3164.76      791.19         4   \n",
       "4    Completed           Cash           41.50       20.75         2   \n",
       "\n",
       "  Purchase Date Shipping Type              Add-ons Purchased  Amount Add-on  \\\n",
       "0     3/20/2024      Standard  Accessory,Accessory,Accessory          40.21   \n",
       "1     4/20/2024     Overnight                   Impulse Item          26.09   \n",
       "2    10/17/2023       Express                            NaN           0.00   \n",
       "3      8/9/2024     Overnight      Impulse Item,Impulse Item          60.16   \n",
       "4     5/21/2024       Express                      Accessory          35.56   \n",
       "\n",
       "   Total Amount  \n",
       "0       5578.54  \n",
       "1        767.18  \n",
       "2       1855.84  \n",
       "3       3224.92  \n",
       "4         77.06  "
      ]
     },
     "execution_count": 102,
     "metadata": {},
     "output_type": "execute_result"
    }
   ],
   "source": [
    "# Menampilkan dataframe\n",
    "df.head(5)"
   ]
  },
  {
   "cell_type": "markdown",
   "metadata": {},
   "source": [
    "## 3.3. Memperbaiki Paypal dalam Payment Method"
   ]
  },
  {
   "cell_type": "code",
   "execution_count": 103,
   "metadata": {},
   "outputs": [],
   "source": [
    "# Memperbaiki Paypal menjadi PayPal\n",
    "df['Payment Method'] = df['Payment Method'].str.replace('Paypal','PayPal')"
   ]
  },
  {
   "cell_type": "code",
   "execution_count": 104,
   "metadata": {},
   "outputs": [
    {
     "data": {
      "text/plain": [
       "array(['Credit Card', 'PayPal', 'Cash', 'Debit Card', 'Bank Transfer'],\n",
       "      dtype=object)"
      ]
     },
     "execution_count": 104,
     "metadata": {},
     "output_type": "execute_result"
    }
   ],
   "source": [
    "# Memeriksa unique value Payment method\n",
    "df['Payment Method'].unique()"
   ]
  },
  {
   "cell_type": "markdown",
   "metadata": {},
   "source": [
    "## 3.4. Split Kolom Add-ons Purchased Menjadi 3 Kolom"
   ]
  },
  {
   "cell_type": "code",
   "execution_count": 105,
   "metadata": {},
   "outputs": [],
   "source": [
    "# Melakukan split kolom Add-ons Purchased menjadi 3 kolom\n",
    "df[['Add-on1','Add-on2','Add-on3']] = df['Add-ons Purchased'].str.split(',', expand= True)"
   ]
  },
  {
   "cell_type": "code",
   "execution_count": 106,
   "metadata": {},
   "outputs": [],
   "source": [
    "# Menghapus kolom Add-ons Purchased\n",
    "df.drop(['Add-ons Purchased'], axis=1, inplace =True)"
   ]
  },
  {
   "cell_type": "code",
   "execution_count": 107,
   "metadata": {},
   "outputs": [
    {
     "data": {
      "text/plain": [
       "array(['Accessory', 'Impulse Item', nan, 'Extended Warranty'],\n",
       "      dtype=object)"
      ]
     },
     "execution_count": 107,
     "metadata": {},
     "output_type": "execute_result"
    }
   ],
   "source": [
    "# Memeriksa Unique Value pada kolom Add-on1\n",
    "df['Add-on1'].unique()"
   ]
  },
  {
   "cell_type": "code",
   "execution_count": 108,
   "metadata": {},
   "outputs": [
    {
     "data": {
      "text/plain": [
       "array(['Accessory', None, nan, 'Impulse Item', 'Extended Warranty',\n",
       "       ' Impulse Item', ' Extended Warranty', ' Accessory'], dtype=object)"
      ]
     },
     "execution_count": 108,
     "metadata": {},
     "output_type": "execute_result"
    }
   ],
   "source": [
    "# Memeriksa Unique Value pada kolom Add-on2\n",
    "df['Add-on2'].unique()"
   ]
  },
  {
   "cell_type": "code",
   "execution_count": 109,
   "metadata": {},
   "outputs": [
    {
     "data": {
      "text/plain": [
       "array(['Accessory', None, nan, 'Impulse Item', 'Extended Warranty',\n",
       "       ' Impulse Item', ' Extended Warranty', ' Accessory'], dtype=object)"
      ]
     },
     "execution_count": 109,
     "metadata": {},
     "output_type": "execute_result"
    }
   ],
   "source": [
    "# Memeriksa Unique Value pada kolom Add-on3\n",
    "df['Add-on3'].unique()"
   ]
  },
  {
   "cell_type": "markdown",
   "metadata": {},
   "source": [
    "Dari hasil pemeriksaan unique value, ditemukan bahwa value dalam kolom Add-on2 dan 3 masih tidak rapi dan mengandung whitespace. Maka akan dilakukan penghapusa white space pada kolom."
   ]
  },
  {
   "cell_type": "code",
   "execution_count": 110,
   "metadata": {},
   "outputs": [],
   "source": [
    "# Menghapus whitespace\n",
    "df['Add-on2'] = df['Add-on2'].str.strip()\n",
    "df['Add-on3'] = df['Add-on3'].str.strip()"
   ]
  },
  {
   "cell_type": "code",
   "execution_count": 111,
   "metadata": {},
   "outputs": [
    {
     "data": {
      "text/plain": [
       "array(['Accessory', None, nan, 'Impulse Item', 'Extended Warranty'],\n",
       "      dtype=object)"
      ]
     },
     "execution_count": 111,
     "metadata": {},
     "output_type": "execute_result"
    }
   ],
   "source": [
    "# Memeriksa Unique Value pada kolom Add-on2\n",
    "df['Add-on2'].unique()"
   ]
  },
  {
   "cell_type": "code",
   "execution_count": 112,
   "metadata": {},
   "outputs": [
    {
     "data": {
      "text/plain": [
       "array(['Accessory', None, nan, 'Impulse Item', 'Extended Warranty'],\n",
       "      dtype=object)"
      ]
     },
     "execution_count": 112,
     "metadata": {},
     "output_type": "execute_result"
    }
   ],
   "source": [
    "# Memeriksa Unique Value pada kolom Add-on3\n",
    "df['Add-on3'].unique()"
   ]
  },
  {
   "cell_type": "markdown",
   "metadata": {},
   "source": [
    "Hasilnya whitespace sudah berhasil dihapus."
   ]
  },
  {
   "cell_type": "code",
   "execution_count": 113,
   "metadata": {},
   "outputs": [
    {
     "data": {
      "text/html": [
       "<div>\n",
       "<style scoped>\n",
       "    .dataframe tbody tr th:only-of-type {\n",
       "        vertical-align: middle;\n",
       "    }\n",
       "\n",
       "    .dataframe tbody tr th {\n",
       "        vertical-align: top;\n",
       "    }\n",
       "\n",
       "    .dataframe thead th {\n",
       "        text-align: right;\n",
       "    }\n",
       "</style>\n",
       "<table border=\"1\" class=\"dataframe\">\n",
       "  <thead>\n",
       "    <tr style=\"text-align: right;\">\n",
       "      <th></th>\n",
       "      <th>Customer ID</th>\n",
       "      <th>Age</th>\n",
       "      <th>Gender</th>\n",
       "      <th>Loyalty Member</th>\n",
       "      <th>Product Type</th>\n",
       "      <th>SKU</th>\n",
       "      <th>Rating</th>\n",
       "      <th>Order Status</th>\n",
       "      <th>Payment Method</th>\n",
       "      <th>Amount Product</th>\n",
       "      <th>Unit Price</th>\n",
       "      <th>Quantity</th>\n",
       "      <th>Purchase Date</th>\n",
       "      <th>Shipping Type</th>\n",
       "      <th>Amount Add-on</th>\n",
       "      <th>Total Amount</th>\n",
       "      <th>Add-on1</th>\n",
       "      <th>Add-on2</th>\n",
       "      <th>Add-on3</th>\n",
       "    </tr>\n",
       "  </thead>\n",
       "  <tbody>\n",
       "    <tr>\n",
       "      <th>0</th>\n",
       "      <td>1000</td>\n",
       "      <td>53</td>\n",
       "      <td>Male</td>\n",
       "      <td>No</td>\n",
       "      <td>Smartphone</td>\n",
       "      <td>SKU1004</td>\n",
       "      <td>2</td>\n",
       "      <td>Cancelled</td>\n",
       "      <td>Credit Card</td>\n",
       "      <td>5538.33</td>\n",
       "      <td>791.19</td>\n",
       "      <td>7</td>\n",
       "      <td>3/20/2024</td>\n",
       "      <td>Standard</td>\n",
       "      <td>40.21</td>\n",
       "      <td>5578.54</td>\n",
       "      <td>Accessory</td>\n",
       "      <td>Accessory</td>\n",
       "      <td>Accessory</td>\n",
       "    </tr>\n",
       "    <tr>\n",
       "      <th>1</th>\n",
       "      <td>1000</td>\n",
       "      <td>53</td>\n",
       "      <td>Male</td>\n",
       "      <td>No</td>\n",
       "      <td>Tablet</td>\n",
       "      <td>SKU1002</td>\n",
       "      <td>3</td>\n",
       "      <td>Completed</td>\n",
       "      <td>PayPal</td>\n",
       "      <td>741.09</td>\n",
       "      <td>247.03</td>\n",
       "      <td>3</td>\n",
       "      <td>4/20/2024</td>\n",
       "      <td>Overnight</td>\n",
       "      <td>26.09</td>\n",
       "      <td>767.18</td>\n",
       "      <td>Impulse Item</td>\n",
       "      <td>None</td>\n",
       "      <td>None</td>\n",
       "    </tr>\n",
       "    <tr>\n",
       "      <th>2</th>\n",
       "      <td>1002</td>\n",
       "      <td>41</td>\n",
       "      <td>Male</td>\n",
       "      <td>No</td>\n",
       "      <td>Laptop</td>\n",
       "      <td>SKU1005</td>\n",
       "      <td>3</td>\n",
       "      <td>Completed</td>\n",
       "      <td>Credit Card</td>\n",
       "      <td>1855.84</td>\n",
       "      <td>463.96</td>\n",
       "      <td>4</td>\n",
       "      <td>10/17/2023</td>\n",
       "      <td>Express</td>\n",
       "      <td>0.00</td>\n",
       "      <td>1855.84</td>\n",
       "      <td>NaN</td>\n",
       "      <td>NaN</td>\n",
       "      <td>NaN</td>\n",
       "    </tr>\n",
       "    <tr>\n",
       "      <th>3</th>\n",
       "      <td>1002</td>\n",
       "      <td>41</td>\n",
       "      <td>Male</td>\n",
       "      <td>Yes</td>\n",
       "      <td>Smartphone</td>\n",
       "      <td>SKU1004</td>\n",
       "      <td>2</td>\n",
       "      <td>Completed</td>\n",
       "      <td>Cash</td>\n",
       "      <td>3164.76</td>\n",
       "      <td>791.19</td>\n",
       "      <td>4</td>\n",
       "      <td>8/9/2024</td>\n",
       "      <td>Overnight</td>\n",
       "      <td>60.16</td>\n",
       "      <td>3224.92</td>\n",
       "      <td>Impulse Item</td>\n",
       "      <td>Impulse Item</td>\n",
       "      <td>None</td>\n",
       "    </tr>\n",
       "    <tr>\n",
       "      <th>4</th>\n",
       "      <td>1003</td>\n",
       "      <td>75</td>\n",
       "      <td>Male</td>\n",
       "      <td>Yes</td>\n",
       "      <td>Smartphone</td>\n",
       "      <td>SKU1001</td>\n",
       "      <td>5</td>\n",
       "      <td>Completed</td>\n",
       "      <td>Cash</td>\n",
       "      <td>41.50</td>\n",
       "      <td>20.75</td>\n",
       "      <td>2</td>\n",
       "      <td>5/21/2024</td>\n",
       "      <td>Express</td>\n",
       "      <td>35.56</td>\n",
       "      <td>77.06</td>\n",
       "      <td>Accessory</td>\n",
       "      <td>None</td>\n",
       "      <td>None</td>\n",
       "    </tr>\n",
       "  </tbody>\n",
       "</table>\n",
       "</div>"
      ],
      "text/plain": [
       "   Customer ID  Age Gender Loyalty Member Product Type      SKU  Rating  \\\n",
       "0         1000   53   Male             No   Smartphone  SKU1004       2   \n",
       "1         1000   53   Male             No       Tablet  SKU1002       3   \n",
       "2         1002   41   Male             No       Laptop  SKU1005       3   \n",
       "3         1002   41   Male            Yes   Smartphone  SKU1004       2   \n",
       "4         1003   75   Male            Yes   Smartphone  SKU1001       5   \n",
       "\n",
       "  Order Status Payment Method  Amount Product  Unit Price  Quantity  \\\n",
       "0    Cancelled    Credit Card         5538.33      791.19         7   \n",
       "1    Completed         PayPal          741.09      247.03         3   \n",
       "2    Completed    Credit Card         1855.84      463.96         4   \n",
       "3    Completed           Cash         3164.76      791.19         4   \n",
       "4    Completed           Cash           41.50       20.75         2   \n",
       "\n",
       "  Purchase Date Shipping Type  Amount Add-on  Total Amount       Add-on1  \\\n",
       "0     3/20/2024      Standard          40.21       5578.54     Accessory   \n",
       "1     4/20/2024     Overnight          26.09        767.18  Impulse Item   \n",
       "2    10/17/2023       Express           0.00       1855.84           NaN   \n",
       "3      8/9/2024     Overnight          60.16       3224.92  Impulse Item   \n",
       "4     5/21/2024       Express          35.56         77.06     Accessory   \n",
       "\n",
       "        Add-on2    Add-on3  \n",
       "0     Accessory  Accessory  \n",
       "1          None       None  \n",
       "2           NaN        NaN  \n",
       "3  Impulse Item       None  \n",
       "4          None       None  "
      ]
     },
     "execution_count": 113,
     "metadata": {},
     "output_type": "execute_result"
    }
   ],
   "source": [
    "# Menampilkan dataframe\n",
    "df.head(5)"
   ]
  },
  {
   "cell_type": "markdown",
   "metadata": {},
   "source": [
    "## 3.5. Handling Missing Value"
   ]
  },
  {
   "cell_type": "code",
   "execution_count": 114,
   "metadata": {},
   "outputs": [
    {
     "data": {
      "text/plain": [
       "Customer ID           0\n",
       "Age                   0\n",
       "Gender                1\n",
       "Loyalty Member        0\n",
       "Product Type          0\n",
       "SKU                   0\n",
       "Rating                0\n",
       "Order Status          0\n",
       "Payment Method        0\n",
       "Amount Product        0\n",
       "Unit Price            0\n",
       "Quantity              0\n",
       "Purchase Date         0\n",
       "Shipping Type         0\n",
       "Amount Add-on         0\n",
       "Total Amount          0\n",
       "Add-on1            4868\n",
       "Add-on2            9894\n",
       "Add-on3           14981\n",
       "dtype: int64"
      ]
     },
     "execution_count": 114,
     "metadata": {},
     "output_type": "execute_result"
    }
   ],
   "source": [
    "# Memeriksa jumlah missing value pada tiap kolom\n",
    "df.isna().sum()"
   ]
  },
  {
   "cell_type": "markdown",
   "metadata": {},
   "source": [
    "Untuk missing value pada kolom Gender akan diganti menjadi \"Unknown\"."
   ]
  },
  {
   "cell_type": "code",
   "execution_count": 115,
   "metadata": {},
   "outputs": [],
   "source": [
    "# Mengisi missing value pada kolom Gender\n",
    "df['Gender']=df['Gender'].fillna('Unknown')"
   ]
  },
  {
   "cell_type": "markdown",
   "metadata": {},
   "source": [
    "Untuk missing value pada kolom Add-on1, Add-on2, dan Add-on3 akan diganti menjadi \"None\" artinya, customer tidak melakukan pembelian Add-on. Jika kolom Add-on hanya terisi 1 artinya customer hanya membeli 1 Add-on, jika terisi pada kolom 1 dan 2 artinya customer membeli 2 item Add-on dan jika kolom Add-on terisi 3 kolom artinya customer membeli 3 Add-on."
   ]
  },
  {
   "cell_type": "code",
   "execution_count": 116,
   "metadata": {},
   "outputs": [],
   "source": [
    "# Mengisi missing value pada kolom Add-on\n",
    "df['Add-on1']=df['Add-on1'].fillna('None')\n",
    "df['Add-on2']=df['Add-on2'].fillna('None')\n",
    "df['Add-on3']=df['Add-on3'].fillna('None')\n"
   ]
  },
  {
   "cell_type": "code",
   "execution_count": 117,
   "metadata": {},
   "outputs": [
    {
     "data": {
      "text/plain": [
       "Customer ID       0\n",
       "Age               0\n",
       "Gender            0\n",
       "Loyalty Member    0\n",
       "Product Type      0\n",
       "SKU               0\n",
       "Rating            0\n",
       "Order Status      0\n",
       "Payment Method    0\n",
       "Amount Product    0\n",
       "Unit Price        0\n",
       "Quantity          0\n",
       "Purchase Date     0\n",
       "Shipping Type     0\n",
       "Amount Add-on     0\n",
       "Total Amount      0\n",
       "Add-on1           0\n",
       "Add-on2           0\n",
       "Add-on3           0\n",
       "dtype: int64"
      ]
     },
     "execution_count": 117,
     "metadata": {},
     "output_type": "execute_result"
    }
   ],
   "source": [
    "# Memeriksa jumlah missing value\n",
    "df.isna().sum()"
   ]
  },
  {
   "cell_type": "markdown",
   "metadata": {},
   "source": [
    "## 3.6. Mengganti Tipe Data Kolom"
   ]
  },
  {
   "cell_type": "code",
   "execution_count": 118,
   "metadata": {},
   "outputs": [
    {
     "data": {
      "text/plain": [
       "Customer ID         int64\n",
       "Age                 int64\n",
       "Gender             object\n",
       "Loyalty Member     object\n",
       "Product Type       object\n",
       "SKU                object\n",
       "Rating              int64\n",
       "Order Status       object\n",
       "Payment Method     object\n",
       "Amount Product    float64\n",
       "Unit Price        float64\n",
       "Quantity            int64\n",
       "Purchase Date      object\n",
       "Shipping Type      object\n",
       "Amount Add-on     float64\n",
       "Total Amount      float64\n",
       "Add-on1            object\n",
       "Add-on2            object\n",
       "Add-on3            object\n",
       "dtype: object"
      ]
     },
     "execution_count": 118,
     "metadata": {},
     "output_type": "execute_result"
    }
   ],
   "source": [
    "# Menampilkan tipe data masing-masing kolom\n",
    "df.dtypes"
   ]
  },
  {
   "cell_type": "markdown",
   "metadata": {},
   "source": [
    "Dari info data types diatas, kolom `Purchase Date` seharusnya bertipe Date Time, maka akan dilakukan penggantian tipe data pada kolom `Purchase Date`."
   ]
  },
  {
   "cell_type": "code",
   "execution_count": 119,
   "metadata": {},
   "outputs": [],
   "source": [
    "# Mengganti tipe data kolom Purchase Date\n",
    "df['Purchase Date'] = pd.to_datetime(df['Purchase Date'], format='%m/%d/%Y')"
   ]
  },
  {
   "cell_type": "code",
   "execution_count": 120,
   "metadata": {},
   "outputs": [
    {
     "data": {
      "text/plain": [
       "Customer ID                int64\n",
       "Age                        int64\n",
       "Gender                    object\n",
       "Loyalty Member            object\n",
       "Product Type              object\n",
       "SKU                       object\n",
       "Rating                     int64\n",
       "Order Status              object\n",
       "Payment Method            object\n",
       "Amount Product           float64\n",
       "Unit Price               float64\n",
       "Quantity                   int64\n",
       "Purchase Date     datetime64[ns]\n",
       "Shipping Type             object\n",
       "Amount Add-on            float64\n",
       "Total Amount             float64\n",
       "Add-on1                   object\n",
       "Add-on2                   object\n",
       "Add-on3                   object\n",
       "dtype: object"
      ]
     },
     "execution_count": 120,
     "metadata": {},
     "output_type": "execute_result"
    }
   ],
   "source": [
    "# Menampilkan kembali tipe data masing-masing kolom\n",
    "df.dtypes"
   ]
  },
  {
   "cell_type": "markdown",
   "metadata": {},
   "source": [
    "Untuk membantu melihat data tren per bulan, maka dilakukan pembuatan kolom periode."
   ]
  },
  {
   "cell_type": "code",
   "execution_count": 121,
   "metadata": {},
   "outputs": [],
   "source": [
    "#Membuat kolom bulan-tahun\n",
    "df['Periode'] = df['Purchase Date'].dt.to_period('M')"
   ]
  },
  {
   "cell_type": "markdown",
   "metadata": {},
   "source": [
    "## 3.7. Menyimpan Hasil Cleanning untuk Visualisasi Tableau"
   ]
  },
  {
   "cell_type": "code",
   "execution_count": 122,
   "metadata": {},
   "outputs": [],
   "source": [
    "# Menyimpan data dalam bentuk csv file\n",
    "df.to_csv(\"h8dsft_milestone1_verrenmonica_csv.csv\", index= False)"
   ]
  },
  {
   "cell_type": "markdown",
   "metadata": {},
   "source": [
    "# 4. Analisis dan Perhitungan"
   ]
  },
  {
   "cell_type": "markdown",
   "metadata": {},
   "source": [
    "Pada bagian ini akan dilakukan perhitungan dan analisa untuk setiap pertanyaan pada penjabaran masalah."
   ]
  },
  {
   "cell_type": "markdown",
   "metadata": {},
   "source": [
    "## 4.1. Analisa Completed Order dan Cancelled Order"
   ]
  },
  {
   "cell_type": "code",
   "execution_count": 123,
   "metadata": {},
   "outputs": [
    {
     "data": {
      "text/html": [
       "<div>\n",
       "<style scoped>\n",
       "    .dataframe tbody tr th:only-of-type {\n",
       "        vertical-align: middle;\n",
       "    }\n",
       "\n",
       "    .dataframe tbody tr th {\n",
       "        vertical-align: top;\n",
       "    }\n",
       "\n",
       "    .dataframe thead th {\n",
       "        text-align: right;\n",
       "    }\n",
       "</style>\n",
       "<table border=\"1\" class=\"dataframe\">\n",
       "  <thead>\n",
       "    <tr style=\"text-align: right;\">\n",
       "      <th></th>\n",
       "      <th>Customer ID</th>\n",
       "      <th>Age</th>\n",
       "      <th>Gender</th>\n",
       "      <th>Loyalty Member</th>\n",
       "      <th>Product Type</th>\n",
       "      <th>SKU</th>\n",
       "      <th>Rating</th>\n",
       "      <th>Order Status</th>\n",
       "      <th>Payment Method</th>\n",
       "      <th>Amount Product</th>\n",
       "      <th>Unit Price</th>\n",
       "      <th>Quantity</th>\n",
       "      <th>Purchase Date</th>\n",
       "      <th>Shipping Type</th>\n",
       "      <th>Amount Add-on</th>\n",
       "      <th>Total Amount</th>\n",
       "      <th>Add-on1</th>\n",
       "      <th>Add-on2</th>\n",
       "      <th>Add-on3</th>\n",
       "      <th>Periode</th>\n",
       "    </tr>\n",
       "  </thead>\n",
       "  <tbody>\n",
       "    <tr>\n",
       "      <th>0</th>\n",
       "      <td>1000</td>\n",
       "      <td>53</td>\n",
       "      <td>Male</td>\n",
       "      <td>No</td>\n",
       "      <td>Smartphone</td>\n",
       "      <td>SKU1004</td>\n",
       "      <td>2</td>\n",
       "      <td>Cancelled</td>\n",
       "      <td>Credit Card</td>\n",
       "      <td>5538.33</td>\n",
       "      <td>791.19</td>\n",
       "      <td>7</td>\n",
       "      <td>2024-03-20</td>\n",
       "      <td>Standard</td>\n",
       "      <td>40.21</td>\n",
       "      <td>5578.54</td>\n",
       "      <td>Accessory</td>\n",
       "      <td>Accessory</td>\n",
       "      <td>Accessory</td>\n",
       "      <td>2024-03</td>\n",
       "    </tr>\n",
       "    <tr>\n",
       "      <th>1</th>\n",
       "      <td>1000</td>\n",
       "      <td>53</td>\n",
       "      <td>Male</td>\n",
       "      <td>No</td>\n",
       "      <td>Tablet</td>\n",
       "      <td>SKU1002</td>\n",
       "      <td>3</td>\n",
       "      <td>Completed</td>\n",
       "      <td>PayPal</td>\n",
       "      <td>741.09</td>\n",
       "      <td>247.03</td>\n",
       "      <td>3</td>\n",
       "      <td>2024-04-20</td>\n",
       "      <td>Overnight</td>\n",
       "      <td>26.09</td>\n",
       "      <td>767.18</td>\n",
       "      <td>Impulse Item</td>\n",
       "      <td>None</td>\n",
       "      <td>None</td>\n",
       "      <td>2024-04</td>\n",
       "    </tr>\n",
       "    <tr>\n",
       "      <th>2</th>\n",
       "      <td>1002</td>\n",
       "      <td>41</td>\n",
       "      <td>Male</td>\n",
       "      <td>No</td>\n",
       "      <td>Laptop</td>\n",
       "      <td>SKU1005</td>\n",
       "      <td>3</td>\n",
       "      <td>Completed</td>\n",
       "      <td>Credit Card</td>\n",
       "      <td>1855.84</td>\n",
       "      <td>463.96</td>\n",
       "      <td>4</td>\n",
       "      <td>2023-10-17</td>\n",
       "      <td>Express</td>\n",
       "      <td>0.00</td>\n",
       "      <td>1855.84</td>\n",
       "      <td>None</td>\n",
       "      <td>None</td>\n",
       "      <td>None</td>\n",
       "      <td>2023-10</td>\n",
       "    </tr>\n",
       "    <tr>\n",
       "      <th>3</th>\n",
       "      <td>1002</td>\n",
       "      <td>41</td>\n",
       "      <td>Male</td>\n",
       "      <td>Yes</td>\n",
       "      <td>Smartphone</td>\n",
       "      <td>SKU1004</td>\n",
       "      <td>2</td>\n",
       "      <td>Completed</td>\n",
       "      <td>Cash</td>\n",
       "      <td>3164.76</td>\n",
       "      <td>791.19</td>\n",
       "      <td>4</td>\n",
       "      <td>2024-08-09</td>\n",
       "      <td>Overnight</td>\n",
       "      <td>60.16</td>\n",
       "      <td>3224.92</td>\n",
       "      <td>Impulse Item</td>\n",
       "      <td>Impulse Item</td>\n",
       "      <td>None</td>\n",
       "      <td>2024-08</td>\n",
       "    </tr>\n",
       "    <tr>\n",
       "      <th>4</th>\n",
       "      <td>1003</td>\n",
       "      <td>75</td>\n",
       "      <td>Male</td>\n",
       "      <td>Yes</td>\n",
       "      <td>Smartphone</td>\n",
       "      <td>SKU1001</td>\n",
       "      <td>5</td>\n",
       "      <td>Completed</td>\n",
       "      <td>Cash</td>\n",
       "      <td>41.50</td>\n",
       "      <td>20.75</td>\n",
       "      <td>2</td>\n",
       "      <td>2024-05-21</td>\n",
       "      <td>Express</td>\n",
       "      <td>35.56</td>\n",
       "      <td>77.06</td>\n",
       "      <td>Accessory</td>\n",
       "      <td>None</td>\n",
       "      <td>None</td>\n",
       "      <td>2024-05</td>\n",
       "    </tr>\n",
       "  </tbody>\n",
       "</table>\n",
       "</div>"
      ],
      "text/plain": [
       "   Customer ID  Age Gender Loyalty Member Product Type      SKU  Rating  \\\n",
       "0         1000   53   Male             No   Smartphone  SKU1004       2   \n",
       "1         1000   53   Male             No       Tablet  SKU1002       3   \n",
       "2         1002   41   Male             No       Laptop  SKU1005       3   \n",
       "3         1002   41   Male            Yes   Smartphone  SKU1004       2   \n",
       "4         1003   75   Male            Yes   Smartphone  SKU1001       5   \n",
       "\n",
       "  Order Status Payment Method  Amount Product  Unit Price  Quantity  \\\n",
       "0    Cancelled    Credit Card         5538.33      791.19         7   \n",
       "1    Completed         PayPal          741.09      247.03         3   \n",
       "2    Completed    Credit Card         1855.84      463.96         4   \n",
       "3    Completed           Cash         3164.76      791.19         4   \n",
       "4    Completed           Cash           41.50       20.75         2   \n",
       "\n",
       "  Purchase Date Shipping Type  Amount Add-on  Total Amount       Add-on1  \\\n",
       "0    2024-03-20      Standard          40.21       5578.54     Accessory   \n",
       "1    2024-04-20     Overnight          26.09        767.18  Impulse Item   \n",
       "2    2023-10-17       Express           0.00       1855.84          None   \n",
       "3    2024-08-09     Overnight          60.16       3224.92  Impulse Item   \n",
       "4    2024-05-21       Express          35.56         77.06     Accessory   \n",
       "\n",
       "        Add-on2    Add-on3  Periode  \n",
       "0     Accessory  Accessory  2024-03  \n",
       "1          None       None  2024-04  \n",
       "2          None       None  2023-10  \n",
       "3  Impulse Item       None  2024-08  \n",
       "4          None       None  2024-05  "
      ]
     },
     "execution_count": 123,
     "metadata": {},
     "output_type": "execute_result"
    }
   ],
   "source": [
    "# Menampilkan dataframe\n",
    "df.head(5)"
   ]
  },
  {
   "cell_type": "markdown",
   "metadata": {},
   "source": [
    "Dari data frame yang ada diperoleh info bahwa ada customer dengan status order cancelled dan completed. Pada bagian ini, akan di analisa kemungkinan alasan pembatalan order customer. Namun, sebelumnya saya akan menghitung jumlah order yang cancelled dan completed dalam dataframe yang dimiliki."
   ]
  },
  {
   "cell_type": "code",
   "execution_count": 124,
   "metadata": {},
   "outputs": [
    {
     "data": {
      "text/html": [
       "<div>\n",
       "<style scoped>\n",
       "    .dataframe tbody tr th:only-of-type {\n",
       "        vertical-align: middle;\n",
       "    }\n",
       "\n",
       "    .dataframe tbody tr th {\n",
       "        vertical-align: top;\n",
       "    }\n",
       "\n",
       "    .dataframe thead th {\n",
       "        text-align: right;\n",
       "    }\n",
       "</style>\n",
       "<table border=\"1\" class=\"dataframe\">\n",
       "  <thead>\n",
       "    <tr style=\"text-align: right;\">\n",
       "      <th></th>\n",
       "      <th>Order Status</th>\n",
       "      <th>Customer ID</th>\n",
       "    </tr>\n",
       "  </thead>\n",
       "  <tbody>\n",
       "    <tr>\n",
       "      <th>0</th>\n",
       "      <td>Cancelled</td>\n",
       "      <td>6568</td>\n",
       "    </tr>\n",
       "    <tr>\n",
       "      <th>1</th>\n",
       "      <td>Completed</td>\n",
       "      <td>13432</td>\n",
       "    </tr>\n",
       "  </tbody>\n",
       "</table>\n",
       "</div>"
      ],
      "text/plain": [
       "  Order Status  Customer ID\n",
       "0    Cancelled         6568\n",
       "1    Completed        13432"
      ]
     },
     "execution_count": 124,
     "metadata": {},
     "output_type": "execute_result"
    }
   ],
   "source": [
    "# Mengelompokkan data berdasarkan order status untuk menghitung jumlah order yang batal dan selesai\n",
    "comCan = df.groupby('Order Status')['Customer ID'].count().reset_index()\n",
    "comCan"
   ]
  },
  {
   "cell_type": "markdown",
   "metadata": {},
   "source": [
    "Dari  perhitungan di atas, diperoleh hasil bahwa dari data yang dimiliki, 6568 diantaranya adalah order dengan status cancelled dan 13432 sisanya adalah order yang selesai dan berhasil dilakukan. Berikut adalah visualisasi datanya:"
   ]
  },
  {
   "cell_type": "code",
   "execution_count": 125,
   "metadata": {},
   "outputs": [
    {
     "data": {
      "image/png": "[encoded data removed]",
      "text/plain": [
       "<Figure size 640x480 with 1 Axes>"
      ]
     },
     "metadata": {},
     "output_type": "display_data"
    }
   ],
   "source": [
    "# Visualisasi data menggunakan pie chart\n",
    "plt.pie(x=comCan['Customer ID'], labels=comCan['Order Status'], autopct='%1.2f%%')\n",
    "plt.title('Percentage Order Completed vs Cancelled')\n",
    "plt.show()"
   ]
  },
  {
   "cell_type": "markdown",
   "metadata": {},
   "source": [
    "Dari hasil visualisasi dapat dilihat dengan mudah bahwa presentase jumlah order yang cancelled adalah 32.84% dan yang completed adalah 67.16%. Nilai 32.84% adalah nilai yang cukup besar untuk pembatalan order. Pembatalan order yang dilakukan oleh customer kemungkinan disebabkan oleh beberapa hal, salah satunya adalah total amount dengan nominal yang besar. \n",
    "\n",
    "Pesanan dengan nominal besar mungkin lebih rentan dibatalkan karena faktor keuangan customer. Maka, dilakukan uji statistik untuk melihat korelasi status order dengan rata-rata total amount. \n",
    "\n",
    "Uji statistik ini akan dilakukan dengan metode `Independent Two Sample t-Test`. Metode ini dipilih karena uji statistik ini digunakan untuk membandingkan 2 kelompok data yang independen (completed order dan cancelled order). Berikut adalah penentuan hipotesisnya:\n",
    "\n",
    "**H0**: Tidak ada perbedaan rata-rata total amount antara Cancelled Order dan Completed Order\n",
    "\n",
    "**H1**: Ada perbedaan rata-rata total amount antara Cancelled Order dan Completed Order"
   ]
  },
  {
   "cell_type": "code",
   "execution_count": 126,
   "metadata": {},
   "outputs": [],
   "source": [
    "# Mengelompokkan data dengan status order completed \n",
    "completed = df[df['Order Status'].str.contains('Completed', case = False)]\n",
    "\n",
    "# Mengelompokkan data dengan status order cancelled\n",
    "cancelled = df[df['Order Status'].str.contains('Cancelled', case = False)]"
   ]
  },
  {
   "cell_type": "code",
   "execution_count": 127,
   "metadata": {},
   "outputs": [
    {
     "name": "stdout",
     "output_type": "stream",
     "text": [
      "p-value: 0.6099684583529085\n"
     ]
    }
   ],
   "source": [
    "# Uji Independent Two-Sample t-test\n",
    "pvalue = stats.ttest_ind(completed['Total Amount'], cancelled['Total Amount']).pvalue\n",
    "print('p-value:', pvalue) "
   ]
  },
  {
   "cell_type": "markdown",
   "metadata": {},
   "source": [
    "Dari hasil pengujian statisitk Independent Two-Sample t-test diperoleh p-value = 0.609. Dengan confidence level 95% (critical value = 0.05). Maka, p-value > critical value. Artinya H0 gagal ditolak, tidak ada perbedaan rata-rata total amount antara Cancelled Order dan Completed Order.\n",
    "\n",
    "Maka, pembatalan order customer bukan disebabkan karena total amount. Beberapa kemungkinan penyebab lain pembatalan order customer adalah rating produk yang kurang baik, stok produk tidak ada, masalah kualitas produk, dan pengiriman lambat atau mahal.\n",
    "\n",
    "Untuk perhitungan selanjutnya, saya akan menggunakan data penjualan yang completed saja karena ingin mendapatkan hasil analisa dari produk-produk yang benar-benar berhasil terjual ke customer."
   ]
  },
  {
   "cell_type": "markdown",
   "metadata": {},
   "source": [
    "## 4.2. Analisa Metode Pembayaran"
   ]
  },
  {
   "cell_type": "markdown",
   "metadata": {},
   "source": [
    "Analisa metode pembayaran ini bertujuan untuk melihat metode pembayaran yang paling sering dipilih oleh customer dan bagaimana dengan metode pembayaran lainnya."
   ]
  },
  {
   "cell_type": "code",
   "execution_count": 128,
   "metadata": {},
   "outputs": [
    {
     "data": {
      "text/plain": [
       "'Credit Card'"
      ]
     },
     "execution_count": 128,
     "metadata": {},
     "output_type": "execute_result"
    }
   ],
   "source": [
    "# Metode pembayaran yang paling sering digunakan\n",
    "completed['Payment Method'].mode()[0]"
   ]
  },
  {
   "cell_type": "markdown",
   "metadata": {},
   "source": [
    "Dari hasil perhitungan mode, diketahui bahwa customer sering menggunakan kartu kredit pada saat melakukan pembayaran. Oleh karena itu, hal ini dapat menjadi pertimbangan pemilik toko untuk bekerja sama dengan beberapa bank yang dapat memberikan cicilan 0% atau memberikan promo jika pembelian menggunakan kartu kredit. Hal ini akan mendorong customer untuk melakukan pembelian lebih banyak atau mendorong customer untuk membeli produk yang dianggap terlalu mahal."
   ]
  },
  {
   "cell_type": "code",
   "execution_count": 129,
   "metadata": {},
   "outputs": [
    {
     "data": {
      "text/html": [
       "<div>\n",
       "<style scoped>\n",
       "    .dataframe tbody tr th:only-of-type {\n",
       "        vertical-align: middle;\n",
       "    }\n",
       "\n",
       "    .dataframe tbody tr th {\n",
       "        vertical-align: top;\n",
       "    }\n",
       "\n",
       "    .dataframe thead th {\n",
       "        text-align: right;\n",
       "    }\n",
       "</style>\n",
       "<table border=\"1\" class=\"dataframe\">\n",
       "  <thead>\n",
       "    <tr style=\"text-align: right;\">\n",
       "      <th></th>\n",
       "      <th>Payment Method</th>\n",
       "      <th>Customer ID</th>\n",
       "    </tr>\n",
       "  </thead>\n",
       "  <tbody>\n",
       "    <tr>\n",
       "      <th>0</th>\n",
       "      <td>Debit Card</td>\n",
       "      <td>1684</td>\n",
       "    </tr>\n",
       "    <tr>\n",
       "      <th>1</th>\n",
       "      <td>Cash</td>\n",
       "      <td>1727</td>\n",
       "    </tr>\n",
       "    <tr>\n",
       "      <th>2</th>\n",
       "      <td>Bank Transfer</td>\n",
       "      <td>2259</td>\n",
       "    </tr>\n",
       "    <tr>\n",
       "      <th>3</th>\n",
       "      <td>PayPal</td>\n",
       "      <td>3863</td>\n",
       "    </tr>\n",
       "    <tr>\n",
       "      <th>4</th>\n",
       "      <td>Credit Card</td>\n",
       "      <td>3899</td>\n",
       "    </tr>\n",
       "  </tbody>\n",
       "</table>\n",
       "</div>"
      ],
      "text/plain": [
       "  Payment Method  Customer ID\n",
       "0     Debit Card         1684\n",
       "1           Cash         1727\n",
       "2  Bank Transfer         2259\n",
       "3         PayPal         3863\n",
       "4    Credit Card         3899"
      ]
     },
     "execution_count": 129,
     "metadata": {},
     "output_type": "execute_result"
    }
   ],
   "source": [
    "# Menghitung seberapa sering transaksi menggunakan masing-masing metode pembayaran\n",
    "payment = completed.groupby('Payment Method')['Customer ID'].count().sort_values().reset_index()\n",
    "payment"
   ]
  },
  {
   "cell_type": "markdown",
   "metadata": {},
   "source": [
    "Agar lebih mudah dipahami, maka berikut visualisasi datanya:"
   ]
  },
  {
   "cell_type": "code",
   "execution_count": 130,
   "metadata": {},
   "outputs": [
    {
     "data": {
      "image/png": "[encoded data removed]",
      "text/plain": [
       "<Figure size 640x480 with 1 Axes>"
      ]
     },
     "metadata": {},
     "output_type": "display_data"
    }
   ],
   "source": [
    "# Visualisasi data menggunakan pie chart\n",
    "plt.pie(x=payment['Customer ID'], labels=payment['Payment Method'], autopct='%1.2f%%')\n",
    "plt.title('Percentage Payment Method')\n",
    "plt.show()"
   ]
  },
  {
   "cell_type": "markdown",
   "metadata": {},
   "source": [
    "Dari hasil perhitungan diperoleh hasil bahwa customer paling banyak menggunakan kartu kredit untuk melakukan transaksi dan jumlahnya tidak berbeda jauh dengan penggunaan PayPal. Sehingga, hal ini dapat menjadi bahan pertimbangan untuk pemberian promo diskon, cashback dengan Credit Card atau PayPal untuk meningkatkan ketertarikan customer dan meningkatkan penjualan."
   ]
  },
  {
   "cell_type": "markdown",
   "metadata": {},
   "source": [
    "## 4.3. Analisa Metode Pengiriman"
   ]
  },
  {
   "cell_type": "markdown",
   "metadata": {},
   "source": [
    "Analisa metode pengiriman ini membantu melihat metode pengiriman apa yang sering dipilih oleh customer. Hal ini dapat membantu pemilik toko agar mempertimbangkan bekerja sama dengan pihak tertentu untuk menekan biaya pengiriman, sehingga pemilik toko juga dapat memberikan biaya pengiriman yang kompetitif kepada pelanggan."
   ]
  },
  {
   "cell_type": "code",
   "execution_count": 131,
   "metadata": {},
   "outputs": [
    {
     "data": {
      "text/plain": [
       "'Standard'"
      ]
     },
     "execution_count": 131,
     "metadata": {},
     "output_type": "execute_result"
    }
   ],
   "source": [
    "# Metode pengiriman yang paling sering digunakan\n",
    "completed['Shipping Type'].mode()[0]"
   ]
  },
  {
   "cell_type": "markdown",
   "metadata": {},
   "source": [
    "Dari hasil pemeriksaan, metode pengiriman yang sering digunakan adalah Standard. Berikut ini adalah perhitungan seberapa sering masing-masing shipping type dipilih oleh customer."
   ]
  },
  {
   "cell_type": "code",
   "execution_count": 132,
   "metadata": {},
   "outputs": [
    {
     "data": {
      "text/html": [
       "<div>\n",
       "<style scoped>\n",
       "    .dataframe tbody tr th:only-of-type {\n",
       "        vertical-align: middle;\n",
       "    }\n",
       "\n",
       "    .dataframe tbody tr th {\n",
       "        vertical-align: top;\n",
       "    }\n",
       "\n",
       "    .dataframe thead th {\n",
       "        text-align: right;\n",
       "    }\n",
       "</style>\n",
       "<table border=\"1\" class=\"dataframe\">\n",
       "  <thead>\n",
       "    <tr style=\"text-align: right;\">\n",
       "      <th></th>\n",
       "      <th>Shipping Type</th>\n",
       "      <th>Customer ID</th>\n",
       "    </tr>\n",
       "  </thead>\n",
       "  <tbody>\n",
       "    <tr>\n",
       "      <th>0</th>\n",
       "      <td>Same Day</td>\n",
       "      <td>2187</td>\n",
       "    </tr>\n",
       "    <tr>\n",
       "      <th>1</th>\n",
       "      <td>Expedited</td>\n",
       "      <td>2210</td>\n",
       "    </tr>\n",
       "    <tr>\n",
       "      <th>2</th>\n",
       "      <td>Express</td>\n",
       "      <td>2227</td>\n",
       "    </tr>\n",
       "    <tr>\n",
       "      <th>3</th>\n",
       "      <td>Overnight</td>\n",
       "      <td>2247</td>\n",
       "    </tr>\n",
       "    <tr>\n",
       "      <th>4</th>\n",
       "      <td>Standard</td>\n",
       "      <td>4561</td>\n",
       "    </tr>\n",
       "  </tbody>\n",
       "</table>\n",
       "</div>"
      ],
      "text/plain": [
       "  Shipping Type  Customer ID\n",
       "0      Same Day         2187\n",
       "1     Expedited         2210\n",
       "2       Express         2227\n",
       "3     Overnight         2247\n",
       "4      Standard         4561"
      ]
     },
     "execution_count": 132,
     "metadata": {},
     "output_type": "execute_result"
    }
   ],
   "source": [
    "# Menghitung seberapa sering masing-masing shipping type dipilih oleh customer\n",
    "shipment = completed.groupby('Shipping Type')['Customer ID'].count().sort_values().reset_index()\n",
    "shipment"
   ]
  },
  {
   "cell_type": "markdown",
   "metadata": {},
   "source": [
    "Agar lebih mudah dipahami, berikut adalah visualisasinya:"
   ]
  },
  {
   "cell_type": "code",
   "execution_count": 133,
   "metadata": {},
   "outputs": [
    {
     "data": {
      "image/png": "[encoded data removed]",
      "text/plain": [
       "<Figure size 640x480 with 1 Axes>"
      ]
     },
     "metadata": {},
     "output_type": "display_data"
    }
   ],
   "source": [
    "# Visualisasi data menggunakan pie chart\n",
    "plt.pie(x=shipment['Customer ID'], labels=shipment['Shipping Type'], autopct='%1.2f%%')\n",
    "plt.title('Percentage Shipping Type')\n",
    "plt.show()"
   ]
  },
  {
   "cell_type": "markdown",
   "metadata": {},
   "source": [
    "Dari hasil visualisasi di atas, dapat dilihat dengan mudah bahwa customer sering memilih shipping type Standard. Untuk shipping type Expedited, Same Day, Express, dan Overnight memiliki jumlah yang kurang lebih sama.\n",
    "\n",
    "Hal ini bisa menjadi pertimbangan pemilik toko untuk bekerja sama dengan pihak jasa kirim yang melayani pengiriman Standard. Dengan memberikan volume pengiriman yang tinggi kepada pihak jasa kirim dapat menekan biaya pengiriman. Selain itu, jika biaya pengiriman dapat ditekan, pemilik toko dapat menawarkan biaya kirim yang lebih rendah ke customer, sehingga customer akan lebih tertarik dan nyaman untuk membeli. "
   ]
  },
  {
   "cell_type": "markdown",
   "metadata": {},
   "source": [
    "## 4.4. Analisa Tren Penjualan per Bulan"
   ]
  },
  {
   "cell_type": "markdown",
   "metadata": {},
   "source": [
    "Perhitungan total penjualan per Bulan ini bertujuan untuk mengetahui bagaimana tren naik turunnya total penjualan setiap bulan. "
   ]
  },
  {
   "cell_type": "code",
   "execution_count": 134,
   "metadata": {},
   "outputs": [
    {
     "data": {
      "text/html": [
       "<div>\n",
       "<style scoped>\n",
       "    .dataframe tbody tr th:only-of-type {\n",
       "        vertical-align: middle;\n",
       "    }\n",
       "\n",
       "    .dataframe tbody tr th {\n",
       "        vertical-align: top;\n",
       "    }\n",
       "\n",
       "    .dataframe thead th {\n",
       "        text-align: right;\n",
       "    }\n",
       "</style>\n",
       "<table border=\"1\" class=\"dataframe\">\n",
       "  <thead>\n",
       "    <tr style=\"text-align: right;\">\n",
       "      <th></th>\n",
       "      <th>Periode</th>\n",
       "      <th>Total Amount</th>\n",
       "    </tr>\n",
       "  </thead>\n",
       "  <tbody>\n",
       "    <tr>\n",
       "      <th>0</th>\n",
       "      <td>2023-09</td>\n",
       "      <td>288973.36</td>\n",
       "    </tr>\n",
       "    <tr>\n",
       "      <th>1</th>\n",
       "      <td>2023-10</td>\n",
       "      <td>1581479.07</td>\n",
       "    </tr>\n",
       "    <tr>\n",
       "      <th>2</th>\n",
       "      <td>2023-11</td>\n",
       "      <td>1414569.83</td>\n",
       "    </tr>\n",
       "    <tr>\n",
       "      <th>3</th>\n",
       "      <td>2023-12</td>\n",
       "      <td>1332773.10</td>\n",
       "    </tr>\n",
       "    <tr>\n",
       "      <th>4</th>\n",
       "      <td>2024-01</td>\n",
       "      <td>4609532.76</td>\n",
       "    </tr>\n",
       "    <tr>\n",
       "      <th>5</th>\n",
       "      <td>2024-02</td>\n",
       "      <td>3977503.88</td>\n",
       "    </tr>\n",
       "    <tr>\n",
       "      <th>6</th>\n",
       "      <td>2024-03</td>\n",
       "      <td>4310840.58</td>\n",
       "    </tr>\n",
       "    <tr>\n",
       "      <th>7</th>\n",
       "      <td>2024-04</td>\n",
       "      <td>4382617.75</td>\n",
       "    </tr>\n",
       "    <tr>\n",
       "      <th>8</th>\n",
       "      <td>2024-05</td>\n",
       "      <td>4552289.38</td>\n",
       "    </tr>\n",
       "    <tr>\n",
       "      <th>9</th>\n",
       "      <td>2024-06</td>\n",
       "      <td>4550643.31</td>\n",
       "    </tr>\n",
       "    <tr>\n",
       "      <th>10</th>\n",
       "      <td>2024-07</td>\n",
       "      <td>4549758.03</td>\n",
       "    </tr>\n",
       "    <tr>\n",
       "      <th>11</th>\n",
       "      <td>2024-08</td>\n",
       "      <td>4466294.21</td>\n",
       "    </tr>\n",
       "    <tr>\n",
       "      <th>12</th>\n",
       "      <td>2024-09</td>\n",
       "      <td>3447935.55</td>\n",
       "    </tr>\n",
       "  </tbody>\n",
       "</table>\n",
       "</div>"
      ],
      "text/plain": [
       "    Periode  Total Amount\n",
       "0   2023-09     288973.36\n",
       "1   2023-10    1581479.07\n",
       "2   2023-11    1414569.83\n",
       "3   2023-12    1332773.10\n",
       "4   2024-01    4609532.76\n",
       "5   2024-02    3977503.88\n",
       "6   2024-03    4310840.58\n",
       "7   2024-04    4382617.75\n",
       "8   2024-05    4552289.38\n",
       "9   2024-06    4550643.31\n",
       "10  2024-07    4549758.03\n",
       "11  2024-08    4466294.21\n",
       "12  2024-09    3447935.55"
      ]
     },
     "execution_count": 134,
     "metadata": {},
     "output_type": "execute_result"
    }
   ],
   "source": [
    "# Menghitung total penjualan tiap bulan\n",
    "monthlySales = completed.groupby('Periode')['Total Amount'].sum().reset_index()\n",
    "monthlySales"
   ]
  },
  {
   "cell_type": "markdown",
   "metadata": {},
   "source": [
    "Agar lebih mudah dipahami, berikut adalah visualisasinya:"
   ]
  },
  {
   "cell_type": "code",
   "execution_count": 135,
   "metadata": {},
   "outputs": [
    {
     "data": {
      "image/png": "[encoded data removed]",
      "text/plain": [
       "<Figure size 800x500 with 1 Axes>"
      ]
     },
     "metadata": {},
     "output_type": "display_data"
    }
   ],
   "source": [
    "# Visualisasi data menggunakan linechart\n",
    "monthlySales.plot(x='Periode',y='Total Amount',kind='line', figsize=(8,5))\n",
    "plt.ylabel('Total Amount')\n",
    "plt.title('Monthly Sales Sept23-Sept24 Period')\n",
    "plt.show()"
   ]
  },
  {
   "cell_type": "markdown",
   "metadata": {},
   "source": [
    "Dari hasil perhitungan total penjualan bulanan dan visualisasi data untuk periode September 2023 hingga September 2024, terlihat adanya tren penjualan yang naik-turun setiap bulan. Bulan terendah penjualannya adalah September 2023. Penjualan yang sangat rendah di bulan September 2023 kemungkinan dikarenakan data yang diterima pada periode September 2023 tidak seluruhnya.\n",
    "Berikut adalah pemeriksaanya:"
   ]
  },
  {
   "cell_type": "code",
   "execution_count": 136,
   "metadata": {},
   "outputs": [
    {
     "data": {
      "text/plain": [
       "Timestamp('2023-09-24 00:00:00')"
      ]
     },
     "execution_count": 136,
     "metadata": {},
     "output_type": "execute_result"
    }
   ],
   "source": [
    "# Memeriksa tanggal terkecil di bulan september 2023\n",
    "completed[completed['Periode'] == '09-2023']['Purchase Date'].min()"
   ]
  },
  {
   "cell_type": "code",
   "execution_count": 137,
   "metadata": {},
   "outputs": [
    {
     "data": {
      "text/plain": [
       "Timestamp('2024-09-23 00:00:00')"
      ]
     },
     "execution_count": 137,
     "metadata": {},
     "output_type": "execute_result"
    }
   ],
   "source": [
    "# Memeriksa tanggal terbesar di bulan september 2024\n",
    "completed[completed['Periode'] == '09-2024']['Purchase Date'].max()"
   ]
  },
  {
   "cell_type": "markdown",
   "metadata": {},
   "source": [
    "Dari pemeriksaan diatas, diketahui bahwa periode September 2023 record penjualannya dimulai tanggal 24 September 2023. Hal ini menjadi penyebab total penjualan bulan September 2023 sangat rendah. Dan untuk periode September 2024, record datanya hanya sampai tanggal 23 September 2024, sehingga grafik tampak turun tajam. Namun, ada kecenderungan sales menurun dari bulan Agustus 2024, sehingga hal ini harus menjadi evaluasi bagi pemilik toko untuk meningkatkan penjualan misalnya melalui promosi, memberikan bundling promo kepada customer agar dapat meningkatkan daya beli customer.\n",
    "\n",
    "Kenaikan tertinggi penjualan ada di bulan Januari 2024, hal ini kemungkinan karena behaviour dari customer. Pada umumnya, akhir tahun adalah periode dimana banyak pekerja menerima bonus, sehingga daya beli meningkat dan mempengaruhi penjualan di bulan Januari 2024. \n",
    " \n",
    "Analisis ini memberikan peluang bagi pemilik toko untuk mengetahui penyebab turunnya penjualan di bulan tertentu dan mengidentifikasi faktor yang menyebabkan peningkatan penjualan di bulan lainnya. Dengan memahami ini, pemilik toko dapat merancang strategi yang lebih baik untuk meningkatkan penjualan di periode mendatang, seperti:\n",
    "- Melakukan promosi pada bulan dengan penjualan rendah\n",
    "- Mengoptimalkan stok barang berdasarkan tren permintaan \n",
    "- Melakukan evaluasi strategi pemasaran untuk memaksimalkan potensi pendapatan."
   ]
  },
  {
   "cell_type": "markdown",
   "metadata": {},
   "source": [
    "## 4.5. Analisa Tren Penjualan per Kategori Produk"
   ]
  },
  {
   "cell_type": "markdown",
   "metadata": {},
   "source": [
    "Analisa ini bertujuan untuk menganalisa tren penjualan per kategori produk selama periode September 2023-September 2024.\n",
    "\n",
    "Berikut ini adalah total penjualan per kategori produk dalam periode September 2023 - September 2024:"
   ]
  },
  {
   "cell_type": "code",
   "execution_count": 138,
   "metadata": {},
   "outputs": [
    {
     "data": {
      "text/html": [
       "<div>\n",
       "<style scoped>\n",
       "    .dataframe tbody tr th:only-of-type {\n",
       "        vertical-align: middle;\n",
       "    }\n",
       "\n",
       "    .dataframe tbody tr th {\n",
       "        vertical-align: top;\n",
       "    }\n",
       "\n",
       "    .dataframe thead th {\n",
       "        text-align: right;\n",
       "    }\n",
       "</style>\n",
       "<table border=\"1\" class=\"dataframe\">\n",
       "  <thead>\n",
       "    <tr style=\"text-align: right;\">\n",
       "      <th></th>\n",
       "      <th>Product Type</th>\n",
       "      <th>Total Amount</th>\n",
       "    </tr>\n",
       "  </thead>\n",
       "  <tbody>\n",
       "    <tr>\n",
       "      <th>0</th>\n",
       "      <td>Headphones</td>\n",
       "      <td>2847454.72</td>\n",
       "    </tr>\n",
       "    <tr>\n",
       "      <th>1</th>\n",
       "      <td>Laptop</td>\n",
       "      <td>8536583.03</td>\n",
       "    </tr>\n",
       "    <tr>\n",
       "      <th>2</th>\n",
       "      <td>Smartphone</td>\n",
       "      <td>14630325.53</td>\n",
       "    </tr>\n",
       "    <tr>\n",
       "      <th>3</th>\n",
       "      <td>Smartwatch</td>\n",
       "      <td>9557416.02</td>\n",
       "    </tr>\n",
       "    <tr>\n",
       "      <th>4</th>\n",
       "      <td>Tablet</td>\n",
       "      <td>7893431.51</td>\n",
       "    </tr>\n",
       "  </tbody>\n",
       "</table>\n",
       "</div>"
      ],
      "text/plain": [
       "  Product Type  Total Amount\n",
       "0   Headphones    2847454.72\n",
       "1       Laptop    8536583.03\n",
       "2   Smartphone   14630325.53\n",
       "3   Smartwatch    9557416.02\n",
       "4       Tablet    7893431.51"
      ]
     },
     "execution_count": 138,
     "metadata": {},
     "output_type": "execute_result"
    }
   ],
   "source": [
    "# Total penjualan per kategori produk \n",
    "amountSalesbyCategory = completed.groupby('Product Type')['Total Amount'].sum().reset_index()\n",
    "amountSalesbyCategory"
   ]
  },
  {
   "cell_type": "markdown",
   "metadata": {},
   "source": [
    "Untuk kuantiti terjual per kategori produk periode September 2023 - September 2024 sebagai berikut:"
   ]
  },
  {
   "cell_type": "code",
   "execution_count": 139,
   "metadata": {},
   "outputs": [
    {
     "data": {
      "text/html": [
       "<div>\n",
       "<style scoped>\n",
       "    .dataframe tbody tr th:only-of-type {\n",
       "        vertical-align: middle;\n",
       "    }\n",
       "\n",
       "    .dataframe tbody tr th {\n",
       "        vertical-align: top;\n",
       "    }\n",
       "\n",
       "    .dataframe thead th {\n",
       "        text-align: right;\n",
       "    }\n",
       "</style>\n",
       "<table border=\"1\" class=\"dataframe\">\n",
       "  <thead>\n",
       "    <tr style=\"text-align: right;\">\n",
       "      <th></th>\n",
       "      <th>Product Type</th>\n",
       "      <th>Quantity</th>\n",
       "    </tr>\n",
       "  </thead>\n",
       "  <tbody>\n",
       "    <tr>\n",
       "      <th>0</th>\n",
       "      <td>Headphones</td>\n",
       "      <td>7565</td>\n",
       "    </tr>\n",
       "    <tr>\n",
       "      <th>1</th>\n",
       "      <td>Laptop</td>\n",
       "      <td>14623</td>\n",
       "    </tr>\n",
       "    <tr>\n",
       "      <th>2</th>\n",
       "      <td>Smartphone</td>\n",
       "      <td>21947</td>\n",
       "    </tr>\n",
       "    <tr>\n",
       "      <th>3</th>\n",
       "      <td>Smartwatch</td>\n",
       "      <td>14474</td>\n",
       "    </tr>\n",
       "    <tr>\n",
       "      <th>4</th>\n",
       "      <td>Tablet</td>\n",
       "      <td>15041</td>\n",
       "    </tr>\n",
       "  </tbody>\n",
       "</table>\n",
       "</div>"
      ],
      "text/plain": [
       "  Product Type  Quantity\n",
       "0   Headphones      7565\n",
       "1       Laptop     14623\n",
       "2   Smartphone     21947\n",
       "3   Smartwatch     14474\n",
       "4       Tablet     15041"
      ]
     },
     "execution_count": 139,
     "metadata": {},
     "output_type": "execute_result"
    }
   ],
   "source": [
    "# Total kuantiti terjual per kategori produk\n",
    "qtySoldbyCategory = completed.groupby('Product Type')['Quantity'].sum().reset_index()\n",
    "qtySoldbyCategory"
   ]
  },
  {
   "cell_type": "markdown",
   "metadata": {},
   "source": [
    "Agar lebih mudah dipahami, berikut ini adalah visualisasi datanya:"
   ]
  },
  {
   "cell_type": "code",
   "execution_count": 140,
   "metadata": {},
   "outputs": [
    {
     "data": {
      "image/png": "[encoded data removed]",
      "text/plain": [
       "<Figure size 1500x400 with 2 Axes>"
      ]
     },
     "metadata": {},
     "output_type": "display_data"
    }
   ],
   "source": [
    "# Visualisasi data\n",
    "fig, axes = plt.subplots(ncols=2, figsize=(15,4))\n",
    "\n",
    "x1 = amountSalesbyCategory['Product Type']\n",
    "y1 = amountSalesbyCategory['Total Amount']\n",
    "\n",
    "x2 = qtySoldbyCategory['Product Type']\n",
    "y2 = qtySoldbyCategory['Quantity']\n",
    "\n",
    "axes[0].bar(x1,y1)\n",
    "axes[1].bar(x2,y2)\n",
    "\n",
    "axes[0].set_title(\"Amount Sold Sept2023-Sept2024\")\n",
    "axes[1].set_title(\"Quantity Sold Sept2023-Sept2024\")\n",
    "\n",
    "plt.show()\n"
   ]
  },
  {
   "cell_type": "markdown",
   "metadata": {},
   "source": [
    "Dari perhitungan total penjualan per kategori produk dan kuantiti terjual per kategori produk, diperoleh informasi bahwa Smartphone mendominasi penjualan. Selama periode September 2023 - September 2024 kategori Smartphone terjual sebanyak 21.947 unit dengan total penjualan 14.630.325 dollar. \n",
    "\n",
    "Smartphone memiliki permintaan yang paling tinggi dibandingkan kategori produk lainnya. \n",
    "\n",
    "Untuk produk Smartwatch, kuantiti terjualnya sebanyak 14474 unit dalam 1 tahun, lebih rendah dibandingkan Laptop dan Tablet namun, total penjualannya termasuk yang tertinggi setelah Smartphone. Hal ini dapat disebabkan karena harga satuan Smartwatch lebih tinggi dibandingkan Tablet dan Laptop.\n",
    "\n",
    "Headphone memiliki kontribusi penjualan yang paling rendah, hal ini mungkin disebabkan karena persaingan harga atau bisa terjadi karena produk ini hanya dianggap sebagai aksesoris tambahan oleh customer.\n",
    "\n",
    "Selanjutnya, untuk membantu pemilik toko mengoptimalkan stok setiap bulannya, berikut ini adalah tren penjualan produk setiap bulan berdasarkan kategori produknya dan rata-rata terjual setiap bulannya.\n"
   ]
  },
  {
   "cell_type": "code",
   "execution_count": 141,
   "metadata": {},
   "outputs": [
    {
     "data": {
      "text/html": [
       "<div>\n",
       "<style scoped>\n",
       "    .dataframe tbody tr th:only-of-type {\n",
       "        vertical-align: middle;\n",
       "    }\n",
       "\n",
       "    .dataframe tbody tr th {\n",
       "        vertical-align: top;\n",
       "    }\n",
       "\n",
       "    .dataframe thead th {\n",
       "        text-align: right;\n",
       "    }\n",
       "</style>\n",
       "<table border=\"1\" class=\"dataframe\">\n",
       "  <thead>\n",
       "    <tr style=\"text-align: right;\">\n",
       "      <th></th>\n",
       "      <th>Periode</th>\n",
       "      <th>Product Type</th>\n",
       "      <th>Quantity</th>\n",
       "    </tr>\n",
       "  </thead>\n",
       "  <tbody>\n",
       "    <tr>\n",
       "      <th>0</th>\n",
       "      <td>2023-09</td>\n",
       "      <td>Laptop</td>\n",
       "      <td>124</td>\n",
       "    </tr>\n",
       "    <tr>\n",
       "      <th>1</th>\n",
       "      <td>2023-09</td>\n",
       "      <td>Smartphone</td>\n",
       "      <td>168</td>\n",
       "    </tr>\n",
       "    <tr>\n",
       "      <th>2</th>\n",
       "      <td>2023-09</td>\n",
       "      <td>Smartwatch</td>\n",
       "      <td>126</td>\n",
       "    </tr>\n",
       "    <tr>\n",
       "      <th>3</th>\n",
       "      <td>2023-09</td>\n",
       "      <td>Tablet</td>\n",
       "      <td>227</td>\n",
       "    </tr>\n",
       "    <tr>\n",
       "      <th>4</th>\n",
       "      <td>2023-10</td>\n",
       "      <td>Laptop</td>\n",
       "      <td>678</td>\n",
       "    </tr>\n",
       "    <tr>\n",
       "      <th>5</th>\n",
       "      <td>2023-10</td>\n",
       "      <td>Smartphone</td>\n",
       "      <td>1352</td>\n",
       "    </tr>\n",
       "    <tr>\n",
       "      <th>6</th>\n",
       "      <td>2023-10</td>\n",
       "      <td>Smartwatch</td>\n",
       "      <td>622</td>\n",
       "    </tr>\n",
       "    <tr>\n",
       "      <th>7</th>\n",
       "      <td>2023-10</td>\n",
       "      <td>Tablet</td>\n",
       "      <td>736</td>\n",
       "    </tr>\n",
       "    <tr>\n",
       "      <th>8</th>\n",
       "      <td>2023-11</td>\n",
       "      <td>Laptop</td>\n",
       "      <td>595</td>\n",
       "    </tr>\n",
       "    <tr>\n",
       "      <th>9</th>\n",
       "      <td>2023-11</td>\n",
       "      <td>Smartphone</td>\n",
       "      <td>1275</td>\n",
       "    </tr>\n",
       "  </tbody>\n",
       "</table>\n",
       "</div>"
      ],
      "text/plain": [
       "   Periode Product Type  Quantity\n",
       "0  2023-09       Laptop       124\n",
       "1  2023-09   Smartphone       168\n",
       "2  2023-09   Smartwatch       126\n",
       "3  2023-09       Tablet       227\n",
       "4  2023-10       Laptop       678\n",
       "5  2023-10   Smartphone      1352\n",
       "6  2023-10   Smartwatch       622\n",
       "7  2023-10       Tablet       736\n",
       "8  2023-11       Laptop       595\n",
       "9  2023-11   Smartphone      1275"
      ]
     },
     "execution_count": 141,
     "metadata": {},
     "output_type": "execute_result"
    }
   ],
   "source": [
    "# Menghitung jumlah penjualan produk setiap kategori setiap bulan\n",
    "qtySoldperMonthCat = completed.groupby(['Periode', 'Product Type'])['Quantity'].sum().reset_index()\n",
    "qtySoldperMonthCat.head(10)"
   ]
  },
  {
   "cell_type": "markdown",
   "metadata": {},
   "source": [
    "Agar lebih mudah dipahami, berikut adalah visualisasi datanya:"
   ]
  },
  {
   "cell_type": "code",
   "execution_count": 142,
   "metadata": {},
   "outputs": [
    {
     "data": {
      "image/png": "[encoded data removed]",
      "text/plain": [
       "<Figure size 1200x600 with 1 Axes>"
      ]
     },
     "metadata": {},
     "output_type": "display_data"
    }
   ],
   "source": [
    "# Visualisasi data jumlah terjual setiap bulan per kategori\n",
    "pivot = qtySoldperMonthCat.pivot(index='Periode', columns='Product Type', values='Quantity')\n",
    "\n",
    "pivot.plot(kind='bar', figsize=(12, 6), width=0.7)\n",
    "\n",
    "plt.title('Quantity Sold by Product Type Across Months')\n",
    "plt.xlabel('Period')\n",
    "plt.ylabel('Quantity')\n",
    "plt.legend(title='Product Type')\n",
    "\n",
    "plt.show()"
   ]
  },
  {
   "cell_type": "markdown",
   "metadata": {},
   "source": [
    "Dari data diatas diperoleh informasi bagaimana tren produk terjual setiap bulan per kategori produknya. Untuk kategori Headphone baru terjual di bulan Januari 2024. Hal ini kemungkinan dikarenakan Headphone adalah kategori produk baru.\n",
    "\n",
    "Selanjutnya, dapat dihitung rata-rata penjualan tiap kategori produk setiap bulan. Hal ini dapat membantu pemilik toko untuk mengoptimalkan stok barang berdasarkan kategori setiap bulannya."
   ]
  },
  {
   "cell_type": "code",
   "execution_count": 143,
   "metadata": {},
   "outputs": [
    {
     "data": {
      "text/html": [
       "<div>\n",
       "<style scoped>\n",
       "    .dataframe tbody tr th:only-of-type {\n",
       "        vertical-align: middle;\n",
       "    }\n",
       "\n",
       "    .dataframe tbody tr th {\n",
       "        vertical-align: top;\n",
       "    }\n",
       "\n",
       "    .dataframe thead th {\n",
       "        text-align: right;\n",
       "    }\n",
       "</style>\n",
       "<table border=\"1\" class=\"dataframe\">\n",
       "  <thead>\n",
       "    <tr style=\"text-align: right;\">\n",
       "      <th></th>\n",
       "      <th>Product Type</th>\n",
       "      <th>Quantity</th>\n",
       "    </tr>\n",
       "  </thead>\n",
       "  <tbody>\n",
       "    <tr>\n",
       "      <th>0</th>\n",
       "      <td>Headphones</td>\n",
       "      <td>840.555556</td>\n",
       "    </tr>\n",
       "    <tr>\n",
       "      <th>1</th>\n",
       "      <td>Laptop</td>\n",
       "      <td>1124.846154</td>\n",
       "    </tr>\n",
       "    <tr>\n",
       "      <th>2</th>\n",
       "      <td>Smartphone</td>\n",
       "      <td>1688.230769</td>\n",
       "    </tr>\n",
       "    <tr>\n",
       "      <th>3</th>\n",
       "      <td>Smartwatch</td>\n",
       "      <td>1113.384615</td>\n",
       "    </tr>\n",
       "    <tr>\n",
       "      <th>4</th>\n",
       "      <td>Tablet</td>\n",
       "      <td>1157.000000</td>\n",
       "    </tr>\n",
       "  </tbody>\n",
       "</table>\n",
       "</div>"
      ],
      "text/plain": [
       "  Product Type     Quantity\n",
       "0   Headphones   840.555556\n",
       "1       Laptop  1124.846154\n",
       "2   Smartphone  1688.230769\n",
       "3   Smartwatch  1113.384615\n",
       "4       Tablet  1157.000000"
      ]
     },
     "execution_count": 143,
     "metadata": {},
     "output_type": "execute_result"
    }
   ],
   "source": [
    "# Menghitung rata-rata terjual setiap kategori setiap bulan\n",
    "avgSoldperMonthCat = qtySoldperMonthCat.groupby(['Product Type'])['Quantity'].mean().reset_index()\n",
    "avgSoldperMonthCat"
   ]
  },
  {
   "cell_type": "markdown",
   "metadata": {},
   "source": [
    "## 4.6. Analisa Total Penjualan berdasarkan Gender"
   ]
  },
  {
   "cell_type": "markdown",
   "metadata": {},
   "source": [
    "Pada bagian ini akan dilakukan analisa total penjualan berdasarkan Gender customer. Seperti yang sudah di analisis sebelumnya, untuk kategori Gender ada Female, Male, dan Unknown. Unknown adalah customer yang tidak memberikan info Gendernya. Berikut ini adalah perhitungan jumlah customer dengan masing-masing Gender:"
   ]
  },
  {
   "cell_type": "code",
   "execution_count": 144,
   "metadata": {},
   "outputs": [
    {
     "data": {
      "text/html": [
       "<div>\n",
       "<style scoped>\n",
       "    .dataframe tbody tr th:only-of-type {\n",
       "        vertical-align: middle;\n",
       "    }\n",
       "\n",
       "    .dataframe tbody tr th {\n",
       "        vertical-align: top;\n",
       "    }\n",
       "\n",
       "    .dataframe thead th {\n",
       "        text-align: right;\n",
       "    }\n",
       "</style>\n",
       "<table border=\"1\" class=\"dataframe\">\n",
       "  <thead>\n",
       "    <tr style=\"text-align: right;\">\n",
       "      <th></th>\n",
       "      <th>Gender</th>\n",
       "      <th>count</th>\n",
       "    </tr>\n",
       "  </thead>\n",
       "  <tbody>\n",
       "    <tr>\n",
       "      <th>0</th>\n",
       "      <td>Male</td>\n",
       "      <td>4823</td>\n",
       "    </tr>\n",
       "    <tr>\n",
       "      <th>1</th>\n",
       "      <td>Female</td>\n",
       "      <td>4642</td>\n",
       "    </tr>\n",
       "    <tr>\n",
       "      <th>2</th>\n",
       "      <td>Unknown</td>\n",
       "      <td>1</td>\n",
       "    </tr>\n",
       "  </tbody>\n",
       "</table>\n",
       "</div>"
      ],
      "text/plain": [
       "    Gender  count\n",
       "0     Male   4823\n",
       "1   Female   4642\n",
       "2  Unknown      1"
      ]
     },
     "execution_count": 144,
     "metadata": {},
     "output_type": "execute_result"
    }
   ],
   "source": [
    "# Menghitung jumlah Customer berdasarkan Gender\n",
    "uniqueCustomers = completed.drop_duplicates(subset='Customer ID').reset_index()\n",
    "genderCounts = uniqueCustomers['Gender'].value_counts().reset_index()\n",
    "genderCounts"
   ]
  },
  {
   "cell_type": "markdown",
   "metadata": {},
   "source": [
    "Karena jumlah Unknown hanya 1 dari data customer yang ordernya Completed. Maka akan dilakukan penghapusan Gender Unknown pada analisa ini."
   ]
  },
  {
   "cell_type": "code",
   "execution_count": 145,
   "metadata": {},
   "outputs": [
    {
     "data": {
      "text/html": [
       "<div>\n",
       "<style scoped>\n",
       "    .dataframe tbody tr th:only-of-type {\n",
       "        vertical-align: middle;\n",
       "    }\n",
       "\n",
       "    .dataframe tbody tr th {\n",
       "        vertical-align: top;\n",
       "    }\n",
       "\n",
       "    .dataframe thead th {\n",
       "        text-align: right;\n",
       "    }\n",
       "</style>\n",
       "<table border=\"1\" class=\"dataframe\">\n",
       "  <thead>\n",
       "    <tr style=\"text-align: right;\">\n",
       "      <th></th>\n",
       "      <th>Gender</th>\n",
       "      <th>count</th>\n",
       "    </tr>\n",
       "  </thead>\n",
       "  <tbody>\n",
       "    <tr>\n",
       "      <th>0</th>\n",
       "      <td>Male</td>\n",
       "      <td>4823</td>\n",
       "    </tr>\n",
       "    <tr>\n",
       "      <th>1</th>\n",
       "      <td>Female</td>\n",
       "      <td>4642</td>\n",
       "    </tr>\n",
       "  </tbody>\n",
       "</table>\n",
       "</div>"
      ],
      "text/plain": [
       "   Gender  count\n",
       "0    Male   4823\n",
       "1  Female   4642"
      ]
     },
     "execution_count": 145,
     "metadata": {},
     "output_type": "execute_result"
    }
   ],
   "source": [
    "genderCounts.drop(index=2, inplace=True)\n",
    "genderCounts"
   ]
  },
  {
   "cell_type": "markdown",
   "metadata": {},
   "source": [
    "Agar lebih jelas dan mudah dipahami persentase Female dan Malenya, berikut adalah visualisasinya:"
   ]
  },
  {
   "cell_type": "code",
   "execution_count": 146,
   "metadata": {},
   "outputs": [
    {
     "data": {
      "image/png": "[encoded data removed]",
      "text/plain": [
       "<Figure size 640x480 with 1 Axes>"
      ]
     },
     "metadata": {},
     "output_type": "display_data"
    }
   ],
   "source": [
    "# Visualisasi data menggunakan pie chart\n",
    "plt.pie(x=genderCounts['count'], labels=genderCounts['Gender'], autopct='%1.2f%%')\n",
    "plt.title('Percentage Gender')\n",
    "plt.show()"
   ]
  },
  {
   "cell_type": "markdown",
   "metadata": {},
   "source": [
    "Dari visualisasi diatas dapat diketahui bahwa dari seluruh customer yang berhasil melakukan transaksi, 50.96% diantaranya adalah Male dan 49.04% Female.\n",
    "\n",
    "Berikut ini adalah total spending dari masing-masing Gender. Hal ini untuk mengetahui apakah Gender mempengaruhi penjualan toko."
   ]
  },
  {
   "cell_type": "code",
   "execution_count": 147,
   "metadata": {},
   "outputs": [
    {
     "data": {
      "text/html": [
       "<div>\n",
       "<style scoped>\n",
       "    .dataframe tbody tr th:only-of-type {\n",
       "        vertical-align: middle;\n",
       "    }\n",
       "\n",
       "    .dataframe tbody tr th {\n",
       "        vertical-align: top;\n",
       "    }\n",
       "\n",
       "    .dataframe thead th {\n",
       "        text-align: right;\n",
       "    }\n",
       "</style>\n",
       "<table border=\"1\" class=\"dataframe\">\n",
       "  <thead>\n",
       "    <tr style=\"text-align: right;\">\n",
       "      <th></th>\n",
       "      <th>Gender</th>\n",
       "      <th>Total Amount</th>\n",
       "    </tr>\n",
       "  </thead>\n",
       "  <tbody>\n",
       "    <tr>\n",
       "      <th>1</th>\n",
       "      <td>Female</td>\n",
       "      <td>21680728.41</td>\n",
       "    </tr>\n",
       "    <tr>\n",
       "      <th>2</th>\n",
       "      <td>Male</td>\n",
       "      <td>21783808.08</td>\n",
       "    </tr>\n",
       "  </tbody>\n",
       "</table>\n",
       "</div>"
      ],
      "text/plain": [
       "   Gender  Total Amount\n",
       "1  Female   21680728.41\n",
       "2    Male   21783808.08"
      ]
     },
     "execution_count": 147,
     "metadata": {},
     "output_type": "execute_result"
    }
   ],
   "source": [
    "#  Menghitung total penjualan berdasarkan gender \n",
    "amountSoldbyGender = completed.groupby('Gender')['Total Amount'].sum().sort_values().reset_index()\n",
    "\n",
    "# Menghapus Gender Unknown\n",
    "amountSoldbyGender.drop(index=0, inplace=True)\n",
    "amountSoldbyGender"
   ]
  },
  {
   "cell_type": "markdown",
   "metadata": {},
   "source": [
    "Berikut adalah visualisasi datanya:"
   ]
  },
  {
   "cell_type": "code",
   "execution_count": 148,
   "metadata": {},
   "outputs": [
    {
     "data": {
      "image/png": "[encoded data removed]",
      "text/plain": [
       "<Figure size 500x500 with 1 Axes>"
      ]
     },
     "metadata": {},
     "output_type": "display_data"
    }
   ],
   "source": [
    "# Visualisasi data \n",
    "plt.figure(figsize=(5,5))\n",
    "plt.bar(amountSoldbyGender['Gender'], amountSoldbyGender['Total Amount'])\n",
    "\n",
    "plt.title('Amount Sold by Gender')\n",
    "plt.xlabel('Gender')\n",
    "plt.ylabel('Total Amount')\n",
    "plt.show()"
   ]
  },
  {
   "cell_type": "markdown",
   "metadata": {},
   "source": [
    "Berdasarkan total penjualan, gender Male dan Female melakukan pembelian dengan total spending yang kurang lebih sama meskipun Male melakukan pembelian yang agak sedikit lebih banyak daripada Female. \n",
    "\n",
    "Dari visualisasi diatas dapat diperoleh informasi bahwa tidak ada gender yang berkontribusi dominan pada total penjualan. Sehingga, strategi pemasaran dapat dilakukan dengan target yang general."
   ]
  },
  {
   "cell_type": "markdown",
   "metadata": {},
   "source": [
    "## 4.7. Analisa Rata-Rata Penjualan per Bulan"
   ]
  },
  {
   "cell_type": "markdown",
   "metadata": {},
   "source": [
    "Analisa ini dilakukan untuk mengetahui rata-rata penjualan per bulan mulai dari September 2023-September 2024."
   ]
  },
  {
   "cell_type": "code",
   "execution_count": 149,
   "metadata": {},
   "outputs": [
    {
     "name": "stdout",
     "output_type": "stream",
     "text": [
      "Rata-rata Penjualan per Bulan: 3622100.9008333334\n"
     ]
    }
   ],
   "source": [
    "# Menghitung rata-rata penjualan per bulan\n",
    "totalAmountYear = completed['Total Amount'].sum()\n",
    "averageSalesperMonth = totalAmountYear/12\n",
    "\n",
    "print(f\"Rata-rata Penjualan per Bulan: {averageSalesperMonth}\")"
   ]
  },
  {
   "cell_type": "markdown",
   "metadata": {},
   "source": [
    "Rata-rata penjualan toko per bulan adalah 3.622.100."
   ]
  },
  {
   "cell_type": "markdown",
   "metadata": {},
   "source": [
    "## 4.8. Analisa Usia Customer"
   ]
  },
  {
   "cell_type": "markdown",
   "metadata": {},
   "source": [
    "Analisa ini dilakukan untuk mengetahui bagaimana usia customer sehingga dapat dilakukan strategi pemasaran yang tepat untuk meningkatkan penjualan dan update produk baru sesuai dengan usia kebutuhan customer."
   ]
  },
  {
   "cell_type": "code",
   "execution_count": 150,
   "metadata": {},
   "outputs": [
    {
     "name": "stdout",
     "output_type": "stream",
     "text": [
      "Mean Age: 48.97\n",
      "Median Age: 49.00\n",
      "Mode Age: 61.00\n",
      "Min Age: 18\n",
      "Max Age: 80\n",
      "Range Age: 62\n"
     ]
    }
   ],
   "source": [
    "# Menghitung nilai mean, median, mode kolom Age\n",
    "meanAge = completed['Age'].mean()\n",
    "medianAge = completed['Age'].median()\n",
    "modeAge = completed['Age'].mode()\n",
    "maxAge = completed['Age'].max()\n",
    "minAge =completed['Age'].min()\n",
    "rangeAge = maxAge - minAge\n",
    "\n",
    "print(f\"Mean Age: {meanAge:.2f}\")\n",
    "print(f\"Median Age: {medianAge:.2f}\")\n",
    "print(f\"Mode Age: {modeAge[0]:.2f}\")\n",
    "print(f\"Min Age: {minAge}\")\n",
    "print(f\"Max Age: {maxAge}\")\n",
    "print(f\"Range Age: {rangeAge}\")"
   ]
  },
  {
   "cell_type": "code",
   "execution_count": null,
   "metadata": {},
   "outputs": [
    {
     "name": "stdout",
     "output_type": "stream",
     "text": [
      "Standar Deviasi Age: 18.06\n",
      "Skewness Age: 0.01\n",
      "Kurtosis Age: -1.20\n"
     ]
    }
   ],
   "source": [
    "# Menghitung standar deviasi, skewness, dan kurtosis\n",
    "stdAge = completed['Age'].std()\n",
    "skewAge = completed['Age'].skew()\n",
    "kurtosisAge = completed['Age'].kurtosis()\n",
    "\n",
    "print(f\"Standar Deviasi Age: {stdAge:.2f}\")\n",
    "print(f\"Skewness Age: {skewAge:.2f}\")\n",
    "print(f\"Kurtosis Age: {kurtosisAge:.2f}\")"
   ]
  },
  {
   "cell_type": "markdown",
   "metadata": {},
   "source": [
    "Dari perhitungan central tendency usia customer, diperoleh bahwa rata-rata usia customer adalah 48.97 tahun dan banyak customer yang berusia 61 tahun. Customer termuda dengan usia 18 tahun dan customer tertua dengan usia 80 tahun.\n",
    "\n",
    "Untuk distribusi data usia customer hampir simetris dilihat dari nilai skewness yang mendekati 0.\n",
    "\n",
    "Nilai kurtosis -1.20 menunjukkan bahwa data memiliki puncak yang lebih rendah dibandingkan distribusi normal.\n",
    "\n",
    "Penyebaran data cenderung sedang (standard deviasi 18.06) dibandingkan dengan rata-rata umur customer yaitu 48.97. \n",
    "\n",
    "Berikut ini adalah visualisasi datanya:"
   ]
  },
  {
   "cell_type": "code",
   "execution_count": 152,
   "metadata": {},
   "outputs": [
    {
     "data": {
      "image/png": "[encoded data removed]",
      "text/plain": [
       "<Figure size 900x600 with 1 Axes>"
      ]
     },
     "metadata": {},
     "output_type": "display_data"
    }
   ],
   "source": [
    "# Visualisasi menggunakan histogram\n",
    "plt.figure(figsize=(9,6))\n",
    "sns.histplot(completed['Age'], bins=10, kde=True)\n",
    "plt.title('Age Distribution')\n",
    "plt.show()"
   ]
  },
  {
   "cell_type": "markdown",
   "metadata": {},
   "source": [
    "Hal ini dapat membantu pemilik toko memilih strategi pemasaran yang tepat untuk meningkatkan penjualan dan update produk baru sesuai dengan usia kebutuhan customer. Misalnya dengan menawarkan produk dengan fitur yang mudah digunakan, daya tahan yang kuat."
   ]
  },
  {
   "cell_type": "markdown",
   "metadata": {},
   "source": [
    "## 4.9 Analisa Rating Products"
   ]
  },
  {
   "cell_type": "markdown",
   "metadata": {},
   "source": [
    "Analisa ini membantu pemilik toko untuk meningkatkan kualitas produk yang dijual berdasarkan rating yang diberikan customer. Berikut ini adalah perhitungan rating rata2 tiap kategori produk."
   ]
  },
  {
   "cell_type": "code",
   "execution_count": 153,
   "metadata": {},
   "outputs": [
    {
     "data": {
      "text/html": [
       "<div>\n",
       "<style scoped>\n",
       "    .dataframe tbody tr th:only-of-type {\n",
       "        vertical-align: middle;\n",
       "    }\n",
       "\n",
       "    .dataframe tbody tr th {\n",
       "        vertical-align: top;\n",
       "    }\n",
       "\n",
       "    .dataframe thead th {\n",
       "        text-align: right;\n",
       "    }\n",
       "</style>\n",
       "<table border=\"1\" class=\"dataframe\">\n",
       "  <thead>\n",
       "    <tr style=\"text-align: right;\">\n",
       "      <th></th>\n",
       "      <th>Product Type</th>\n",
       "      <th>Rating</th>\n",
       "    </tr>\n",
       "  </thead>\n",
       "  <tbody>\n",
       "    <tr>\n",
       "      <th>0</th>\n",
       "      <td>Laptop</td>\n",
       "      <td>2.974311</td>\n",
       "    </tr>\n",
       "    <tr>\n",
       "      <th>1</th>\n",
       "      <td>Headphones</td>\n",
       "      <td>2.991918</td>\n",
       "    </tr>\n",
       "    <tr>\n",
       "      <th>2</th>\n",
       "      <td>Smartwatch</td>\n",
       "      <td>3.000379</td>\n",
       "    </tr>\n",
       "    <tr>\n",
       "      <th>3</th>\n",
       "      <td>Tablet</td>\n",
       "      <td>3.028051</td>\n",
       "    </tr>\n",
       "    <tr>\n",
       "      <th>4</th>\n",
       "      <td>Smartphone</td>\n",
       "      <td>3.327672</td>\n",
       "    </tr>\n",
       "  </tbody>\n",
       "</table>\n",
       "</div>"
      ],
      "text/plain": [
       "  Product Type    Rating\n",
       "0       Laptop  2.974311\n",
       "1   Headphones  2.991918\n",
       "2   Smartwatch  3.000379\n",
       "3       Tablet  3.028051\n",
       "4   Smartphone  3.327672"
      ]
     },
     "execution_count": 153,
     "metadata": {},
     "output_type": "execute_result"
    }
   ],
   "source": [
    "# Rating per Kategori Product\n",
    "ratingCategory = completed.groupby(\"Product Type\")['Rating'].mean().sort_values().reset_index()\n",
    "ratingCategory"
   ]
  },
  {
   "cell_type": "markdown",
   "metadata": {},
   "source": [
    "Agar lebih mudah dipahami, berikut adalah visualisasi datanya:"
   ]
  },
  {
   "cell_type": "code",
   "execution_count": 154,
   "metadata": {},
   "outputs": [
    {
     "data": {
      "image/png": "[encoded data removed]",
      "text/plain": [
       "<Figure size 700x500 with 1 Axes>"
      ]
     },
     "metadata": {},
     "output_type": "display_data"
    }
   ],
   "source": [
    "# Visualisasi data\n",
    "plt.figure(figsize=(7,5))\n",
    "plt.bar(ratingCategory['Product Type'],ratingCategory['Rating'], width=0.5)\n",
    "plt.title('Average Rating Products')\n",
    "plt.xlabel('Product')\n",
    "plt.ylabel('Rating')\n",
    "plt.show()"
   ]
  },
  {
   "cell_type": "markdown",
   "metadata": {},
   "source": [
    "Berdasarkan kategori products, kategori Smartphone memiliki rating tertinggi, walaupun untuk setiap kategori produk ratingnya sekitar 3 dari 5(rating maksimum). Untuk kategori Laptop memiliki rating terendah namun masih di angka 2.97 artinya berdasarkan penilaian pelanggan kategori Laptop masih tidak terlalu memuaskan dan tidak terlalu buruk. Hal ini dapat menjadi evaluasi bagi pemilik toko untuk mencari produk dengan kualitas yang lebih baik agar dapat menarik lebih banyak pelanggan dan mempertahankan customer yang sudah ada."
   ]
  },
  {
   "cell_type": "markdown",
   "metadata": {},
   "source": [
    "## 4.10. Analisa Pembelian Add-On"
   ]
  },
  {
   "cell_type": "markdown",
   "metadata": {},
   "source": [
    "Analisa ini membantu pemilik toko untuk mengetahui Add-On yang sering di beli oleh customer sehingga, pemilik toko dapat mengoptimalkan stok dan mempersiapkan hal-hal yang diperlukan. Untuk jenis add-on yang ditawarkan kepada customer diantaranya adalah Accessory, Extended Warranty, Impulse Item.\n",
    "\n",
    "Sebelumnya, kolom add-on dipecah menjadi 3 kolom, maka, akan dihitung jumlah add-on masing-masing kolom dan ditotal secara keseluruhan."
   ]
  },
  {
   "cell_type": "code",
   "execution_count": 155,
   "metadata": {},
   "outputs": [
    {
     "data": {
      "text/html": [
       "<div>\n",
       "<style scoped>\n",
       "    .dataframe tbody tr th:only-of-type {\n",
       "        vertical-align: middle;\n",
       "    }\n",
       "\n",
       "    .dataframe tbody tr th {\n",
       "        vertical-align: top;\n",
       "    }\n",
       "\n",
       "    .dataframe thead th {\n",
       "        text-align: right;\n",
       "    }\n",
       "</style>\n",
       "<table border=\"1\" class=\"dataframe\">\n",
       "  <thead>\n",
       "    <tr style=\"text-align: right;\">\n",
       "      <th></th>\n",
       "      <th>Add-on1</th>\n",
       "      <th>Customer ID</th>\n",
       "    </tr>\n",
       "  </thead>\n",
       "  <tbody>\n",
       "    <tr>\n",
       "      <th>0</th>\n",
       "      <td>Accessory</td>\n",
       "      <td>3371</td>\n",
       "    </tr>\n",
       "    <tr>\n",
       "      <th>1</th>\n",
       "      <td>Extended Warranty</td>\n",
       "      <td>3347</td>\n",
       "    </tr>\n",
       "    <tr>\n",
       "      <th>2</th>\n",
       "      <td>Impulse Item</td>\n",
       "      <td>3427</td>\n",
       "    </tr>\n",
       "    <tr>\n",
       "      <th>3</th>\n",
       "      <td>None</td>\n",
       "      <td>3287</td>\n",
       "    </tr>\n",
       "  </tbody>\n",
       "</table>\n",
       "</div>"
      ],
      "text/plain": [
       "             Add-on1  Customer ID\n",
       "0          Accessory         3371\n",
       "1  Extended Warranty         3347\n",
       "2       Impulse Item         3427\n",
       "3               None         3287"
      ]
     },
     "execution_count": 155,
     "metadata": {},
     "output_type": "execute_result"
    }
   ],
   "source": [
    "# Menghitung Add-on1\n",
    "addOn1 = completed.groupby(\"Add-on1\")['Customer ID'].count().reset_index()\n",
    "addOn1"
   ]
  },
  {
   "cell_type": "code",
   "execution_count": 156,
   "metadata": {},
   "outputs": [
    {
     "data": {
      "text/html": [
       "<div>\n",
       "<style scoped>\n",
       "    .dataframe tbody tr th:only-of-type {\n",
       "        vertical-align: middle;\n",
       "    }\n",
       "\n",
       "    .dataframe tbody tr th {\n",
       "        vertical-align: top;\n",
       "    }\n",
       "\n",
       "    .dataframe thead th {\n",
       "        text-align: right;\n",
       "    }\n",
       "</style>\n",
       "<table border=\"1\" class=\"dataframe\">\n",
       "  <thead>\n",
       "    <tr style=\"text-align: right;\">\n",
       "      <th></th>\n",
       "      <th>Add-on2</th>\n",
       "      <th>Customer ID</th>\n",
       "    </tr>\n",
       "  </thead>\n",
       "  <tbody>\n",
       "    <tr>\n",
       "      <th>0</th>\n",
       "      <td>Accessory</td>\n",
       "      <td>2230</td>\n",
       "    </tr>\n",
       "    <tr>\n",
       "      <th>1</th>\n",
       "      <td>Extended Warranty</td>\n",
       "      <td>2224</td>\n",
       "    </tr>\n",
       "    <tr>\n",
       "      <th>2</th>\n",
       "      <td>Impulse Item</td>\n",
       "      <td>2340</td>\n",
       "    </tr>\n",
       "    <tr>\n",
       "      <th>3</th>\n",
       "      <td>None</td>\n",
       "      <td>6638</td>\n",
       "    </tr>\n",
       "  </tbody>\n",
       "</table>\n",
       "</div>"
      ],
      "text/plain": [
       "             Add-on2  Customer ID\n",
       "0          Accessory         2230\n",
       "1  Extended Warranty         2224\n",
       "2       Impulse Item         2340\n",
       "3               None         6638"
      ]
     },
     "execution_count": 156,
     "metadata": {},
     "output_type": "execute_result"
    }
   ],
   "source": [
    "# Menghitung Add-on2\n",
    "addOn2 = completed.groupby(\"Add-on2\")['Customer ID'].count().reset_index()\n",
    "addOn2"
   ]
  },
  {
   "cell_type": "code",
   "execution_count": 157,
   "metadata": {},
   "outputs": [
    {
     "data": {
      "text/html": [
       "<div>\n",
       "<style scoped>\n",
       "    .dataframe tbody tr th:only-of-type {\n",
       "        vertical-align: middle;\n",
       "    }\n",
       "\n",
       "    .dataframe tbody tr th {\n",
       "        vertical-align: top;\n",
       "    }\n",
       "\n",
       "    .dataframe thead th {\n",
       "        text-align: right;\n",
       "    }\n",
       "</style>\n",
       "<table border=\"1\" class=\"dataframe\">\n",
       "  <thead>\n",
       "    <tr style=\"text-align: right;\">\n",
       "      <th></th>\n",
       "      <th>Add-on3</th>\n",
       "      <th>Customer ID</th>\n",
       "    </tr>\n",
       "  </thead>\n",
       "  <tbody>\n",
       "    <tr>\n",
       "      <th>0</th>\n",
       "      <td>Accessory</td>\n",
       "      <td>1112</td>\n",
       "    </tr>\n",
       "    <tr>\n",
       "      <th>1</th>\n",
       "      <td>Extended Warranty</td>\n",
       "      <td>1142</td>\n",
       "    </tr>\n",
       "    <tr>\n",
       "      <th>2</th>\n",
       "      <td>Impulse Item</td>\n",
       "      <td>1121</td>\n",
       "    </tr>\n",
       "    <tr>\n",
       "      <th>3</th>\n",
       "      <td>None</td>\n",
       "      <td>10057</td>\n",
       "    </tr>\n",
       "  </tbody>\n",
       "</table>\n",
       "</div>"
      ],
      "text/plain": [
       "             Add-on3  Customer ID\n",
       "0          Accessory         1112\n",
       "1  Extended Warranty         1142\n",
       "2       Impulse Item         1121\n",
       "3               None        10057"
      ]
     },
     "execution_count": 157,
     "metadata": {},
     "output_type": "execute_result"
    }
   ],
   "source": [
    "# Menghitung Add-on3\n",
    "addOn3 = completed.groupby(\"Add-on3\")['Customer ID'].count().reset_index()\n",
    "addOn3"
   ]
  },
  {
   "cell_type": "code",
   "execution_count": 158,
   "metadata": {},
   "outputs": [
    {
     "data": {
      "text/html": [
       "<div>\n",
       "<style scoped>\n",
       "    .dataframe tbody tr th:only-of-type {\n",
       "        vertical-align: middle;\n",
       "    }\n",
       "\n",
       "    .dataframe tbody tr th {\n",
       "        vertical-align: top;\n",
       "    }\n",
       "\n",
       "    .dataframe thead th {\n",
       "        text-align: right;\n",
       "    }\n",
       "</style>\n",
       "<table border=\"1\" class=\"dataframe\">\n",
       "  <thead>\n",
       "    <tr style=\"text-align: right;\">\n",
       "      <th></th>\n",
       "      <th>Add-on1</th>\n",
       "      <th>Customer ID_x</th>\n",
       "      <th>Add-on2</th>\n",
       "      <th>Customer ID_y</th>\n",
       "      <th>Add-on3</th>\n",
       "      <th>Customer ID</th>\n",
       "    </tr>\n",
       "  </thead>\n",
       "  <tbody>\n",
       "    <tr>\n",
       "      <th>0</th>\n",
       "      <td>Accessory</td>\n",
       "      <td>3371</td>\n",
       "      <td>Accessory</td>\n",
       "      <td>2230</td>\n",
       "      <td>Accessory</td>\n",
       "      <td>1112</td>\n",
       "    </tr>\n",
       "    <tr>\n",
       "      <th>1</th>\n",
       "      <td>Extended Warranty</td>\n",
       "      <td>3347</td>\n",
       "      <td>Extended Warranty</td>\n",
       "      <td>2224</td>\n",
       "      <td>Extended Warranty</td>\n",
       "      <td>1142</td>\n",
       "    </tr>\n",
       "    <tr>\n",
       "      <th>2</th>\n",
       "      <td>Impulse Item</td>\n",
       "      <td>3427</td>\n",
       "      <td>Impulse Item</td>\n",
       "      <td>2340</td>\n",
       "      <td>Impulse Item</td>\n",
       "      <td>1121</td>\n",
       "    </tr>\n",
       "    <tr>\n",
       "      <th>3</th>\n",
       "      <td>None</td>\n",
       "      <td>3287</td>\n",
       "      <td>None</td>\n",
       "      <td>6638</td>\n",
       "      <td>None</td>\n",
       "      <td>10057</td>\n",
       "    </tr>\n",
       "  </tbody>\n",
       "</table>\n",
       "</div>"
      ],
      "text/plain": [
       "             Add-on1  Customer ID_x            Add-on2  Customer ID_y  \\\n",
       "0          Accessory           3371          Accessory           2230   \n",
       "1  Extended Warranty           3347  Extended Warranty           2224   \n",
       "2       Impulse Item           3427       Impulse Item           2340   \n",
       "3               None           3287               None           6638   \n",
       "\n",
       "             Add-on3  Customer ID  \n",
       "0          Accessory         1112  \n",
       "1  Extended Warranty         1142  \n",
       "2       Impulse Item         1121  \n",
       "3               None        10057  "
      ]
     },
     "execution_count": 158,
     "metadata": {},
     "output_type": "execute_result"
    }
   ],
   "source": [
    "# Menggabungkan hasil perhitungan Add-on1, Add-on2 dan Add-on3\n",
    "combined = pd.merge(addOn1, addOn2, how='outer', left_on=\"Add-on1\", right_on=\"Add-on2\")\n",
    "combined = pd.merge(combined, addOn3, how='outer', left_on=\"Add-on1\", right_on=\"Add-on3\")\n",
    "combined"
   ]
  },
  {
   "cell_type": "code",
   "execution_count": 159,
   "metadata": {},
   "outputs": [
    {
     "data": {
      "text/html": [
       "<div>\n",
       "<style scoped>\n",
       "    .dataframe tbody tr th:only-of-type {\n",
       "        vertical-align: middle;\n",
       "    }\n",
       "\n",
       "    .dataframe tbody tr th {\n",
       "        vertical-align: top;\n",
       "    }\n",
       "\n",
       "    .dataframe thead th {\n",
       "        text-align: right;\n",
       "    }\n",
       "</style>\n",
       "<table border=\"1\" class=\"dataframe\">\n",
       "  <thead>\n",
       "    <tr style=\"text-align: right;\">\n",
       "      <th></th>\n",
       "      <th>Add-on1</th>\n",
       "      <th>Customer ID_x</th>\n",
       "      <th>Customer ID_y</th>\n",
       "      <th>Customer ID</th>\n",
       "    </tr>\n",
       "  </thead>\n",
       "  <tbody>\n",
       "    <tr>\n",
       "      <th>0</th>\n",
       "      <td>Accessory</td>\n",
       "      <td>3371</td>\n",
       "      <td>2230</td>\n",
       "      <td>1112</td>\n",
       "    </tr>\n",
       "    <tr>\n",
       "      <th>1</th>\n",
       "      <td>Extended Warranty</td>\n",
       "      <td>3347</td>\n",
       "      <td>2224</td>\n",
       "      <td>1142</td>\n",
       "    </tr>\n",
       "    <tr>\n",
       "      <th>2</th>\n",
       "      <td>Impulse Item</td>\n",
       "      <td>3427</td>\n",
       "      <td>2340</td>\n",
       "      <td>1121</td>\n",
       "    </tr>\n",
       "    <tr>\n",
       "      <th>3</th>\n",
       "      <td>None</td>\n",
       "      <td>3287</td>\n",
       "      <td>6638</td>\n",
       "      <td>10057</td>\n",
       "    </tr>\n",
       "  </tbody>\n",
       "</table>\n",
       "</div>"
      ],
      "text/plain": [
       "             Add-on1  Customer ID_x  Customer ID_y  Customer ID\n",
       "0          Accessory           3371           2230         1112\n",
       "1  Extended Warranty           3347           2224         1142\n",
       "2       Impulse Item           3427           2340         1121\n",
       "3               None           3287           6638        10057"
      ]
     },
     "execution_count": 159,
     "metadata": {},
     "output_type": "execute_result"
    }
   ],
   "source": [
    "# Menghapus kolom Add-on2 dan Add-on3\n",
    "combined.drop(['Add-on2','Add-on3'], axis =1, inplace=True)\n",
    "combined"
   ]
  },
  {
   "cell_type": "code",
   "execution_count": 160,
   "metadata": {},
   "outputs": [],
   "source": [
    "# Menghapus baris None(tidak ada pembelian Add-on)\n",
    "combined.drop(index=3, inplace=True)"
   ]
  },
  {
   "cell_type": "code",
   "execution_count": 161,
   "metadata": {},
   "outputs": [
    {
     "data": {
      "text/html": [
       "<div>\n",
       "<style scoped>\n",
       "    .dataframe tbody tr th:only-of-type {\n",
       "        vertical-align: middle;\n",
       "    }\n",
       "\n",
       "    .dataframe tbody tr th {\n",
       "        vertical-align: top;\n",
       "    }\n",
       "\n",
       "    .dataframe thead th {\n",
       "        text-align: right;\n",
       "    }\n",
       "</style>\n",
       "<table border=\"1\" class=\"dataframe\">\n",
       "  <thead>\n",
       "    <tr style=\"text-align: right;\">\n",
       "      <th></th>\n",
       "      <th>Add-on1</th>\n",
       "      <th>Customer ID_x</th>\n",
       "      <th>Customer ID_y</th>\n",
       "      <th>Customer ID</th>\n",
       "      <th>Total Qty Addon</th>\n",
       "    </tr>\n",
       "  </thead>\n",
       "  <tbody>\n",
       "    <tr>\n",
       "      <th>0</th>\n",
       "      <td>Accessory</td>\n",
       "      <td>3371</td>\n",
       "      <td>2230</td>\n",
       "      <td>1112</td>\n",
       "      <td>6713</td>\n",
       "    </tr>\n",
       "    <tr>\n",
       "      <th>1</th>\n",
       "      <td>Extended Warranty</td>\n",
       "      <td>3347</td>\n",
       "      <td>2224</td>\n",
       "      <td>1142</td>\n",
       "      <td>6713</td>\n",
       "    </tr>\n",
       "    <tr>\n",
       "      <th>2</th>\n",
       "      <td>Impulse Item</td>\n",
       "      <td>3427</td>\n",
       "      <td>2340</td>\n",
       "      <td>1121</td>\n",
       "      <td>6888</td>\n",
       "    </tr>\n",
       "  </tbody>\n",
       "</table>\n",
       "</div>"
      ],
      "text/plain": [
       "             Add-on1  Customer ID_x  Customer ID_y  Customer ID  \\\n",
       "0          Accessory           3371           2230         1112   \n",
       "1  Extended Warranty           3347           2224         1142   \n",
       "2       Impulse Item           3427           2340         1121   \n",
       "\n",
       "   Total Qty Addon  \n",
       "0             6713  \n",
       "1             6713  \n",
       "2             6888  "
      ]
     },
     "execution_count": 161,
     "metadata": {},
     "output_type": "execute_result"
    }
   ],
   "source": [
    "# Membuat kolom baru total masing-masing Add-on\n",
    "combined['Total Qty Addon'] = combined['Customer ID'] + combined['Customer ID_x'] + combined['Customer ID_y']\n",
    "combined"
   ]
  },
  {
   "cell_type": "code",
   "execution_count": 162,
   "metadata": {},
   "outputs": [
    {
     "data": {
      "text/html": [
       "<div>\n",
       "<style scoped>\n",
       "    .dataframe tbody tr th:only-of-type {\n",
       "        vertical-align: middle;\n",
       "    }\n",
       "\n",
       "    .dataframe tbody tr th {\n",
       "        vertical-align: top;\n",
       "    }\n",
       "\n",
       "    .dataframe thead th {\n",
       "        text-align: right;\n",
       "    }\n",
       "</style>\n",
       "<table border=\"1\" class=\"dataframe\">\n",
       "  <thead>\n",
       "    <tr style=\"text-align: right;\">\n",
       "      <th></th>\n",
       "      <th>Add-on1</th>\n",
       "      <th>Total Qty Addon</th>\n",
       "    </tr>\n",
       "  </thead>\n",
       "  <tbody>\n",
       "    <tr>\n",
       "      <th>0</th>\n",
       "      <td>Accessory</td>\n",
       "      <td>6713</td>\n",
       "    </tr>\n",
       "    <tr>\n",
       "      <th>1</th>\n",
       "      <td>Extended Warranty</td>\n",
       "      <td>6713</td>\n",
       "    </tr>\n",
       "    <tr>\n",
       "      <th>2</th>\n",
       "      <td>Impulse Item</td>\n",
       "      <td>6888</td>\n",
       "    </tr>\n",
       "  </tbody>\n",
       "</table>\n",
       "</div>"
      ],
      "text/plain": [
       "             Add-on1  Total Qty Addon\n",
       "0          Accessory             6713\n",
       "1  Extended Warranty             6713\n",
       "2       Impulse Item             6888"
      ]
     },
     "execution_count": 162,
     "metadata": {},
     "output_type": "execute_result"
    }
   ],
   "source": [
    "# Menghapus kolom yang tidak diperlukan\n",
    "combined.drop(['Customer ID_x','Customer ID_y',  'Customer ID'], axis =1, inplace=True)\n",
    "combined"
   ]
  },
  {
   "cell_type": "markdown",
   "metadata": {},
   "source": [
    "Dari data diatas diperoleh jumlah quantity Add-On yang terjual selama 1 tahun. Berikut visualisasinya:"
   ]
  },
  {
   "cell_type": "code",
   "execution_count": 163,
   "metadata": {},
   "outputs": [
    {
     "data": {
      "image/png": "[encoded data removed]",
      "text/plain": [
       "<Figure size 600x500 with 1 Axes>"
      ]
     },
     "metadata": {},
     "output_type": "display_data"
    }
   ],
   "source": [
    "# Visualisasi data\n",
    "plt.figure(figsize=(6,5))\n",
    "plt.bar(combined['Add-on1'], combined['Total Qty Addon'], width=0.5)\n",
    "plt.show()"
   ]
  },
  {
   "cell_type": "markdown",
   "metadata": {},
   "source": [
    "Jumlah antara masing-masing add-on kurang lebih sama terjualnya dalam setahun."
   ]
  },
  {
   "cell_type": "markdown",
   "metadata": {},
   "source": [
    "## 4.11. Korelasi Kategori Usia dan Kategori Produk"
   ]
  },
  {
   "cell_type": "markdown",
   "metadata": {},
   "source": [
    "Analisis ini bertujuan untuk menentukan apakah terdapat hubungan antara kategori usia dan kategori produk. Tujuannya adalah untuk mengidentifikasi kecenderungan pelanggan dari kategori usia tertentu dalam membeli produk tertentu. Jika ditemukan adanya korelasi, hasil ini dapat membantu pemilik toko merancang strategi pemasaran dan penjualan yang lebih tepat sasaran.\n",
    "\n",
    "Untuk usia customer akan dikategorikan ke dalam kategori berikut:\n",
    "\n",
    "- <50 tahun = Younger Group\n",
    "- '>= 50 tahun = Older Group"
   ]
  },
  {
   "cell_type": "code",
   "execution_count": 164,
   "metadata": {},
   "outputs": [
    {
     "name": "stderr",
     "output_type": "stream",
     "text": [
      "C:\\Users\\ASUS\\AppData\\Local\\Temp\\ipykernel_9488\\3312559084.py:10: SettingWithCopyWarning: \n",
      "A value is trying to be set on a copy of a slice from a DataFrame.\n",
      "Try using .loc[row_indexer,col_indexer] = value instead\n",
      "\n",
      "See the caveats in the documentation: https://pandas.pydata.org/pandas-docs/stable/user_guide/indexing.html#returning-a-view-versus-a-copy\n",
      "  completed['Age Category'] = keteranganUsia\n"
     ]
    },
    {
     "data": {
      "text/html": [
       "<div>\n",
       "<style scoped>\n",
       "    .dataframe tbody tr th:only-of-type {\n",
       "        vertical-align: middle;\n",
       "    }\n",
       "\n",
       "    .dataframe tbody tr th {\n",
       "        vertical-align: top;\n",
       "    }\n",
       "\n",
       "    .dataframe thead th {\n",
       "        text-align: right;\n",
       "    }\n",
       "</style>\n",
       "<table border=\"1\" class=\"dataframe\">\n",
       "  <thead>\n",
       "    <tr style=\"text-align: right;\">\n",
       "      <th></th>\n",
       "      <th>Customer ID</th>\n",
       "      <th>Age</th>\n",
       "      <th>Gender</th>\n",
       "      <th>Loyalty Member</th>\n",
       "      <th>Product Type</th>\n",
       "      <th>SKU</th>\n",
       "      <th>Rating</th>\n",
       "      <th>Order Status</th>\n",
       "      <th>Payment Method</th>\n",
       "      <th>Amount Product</th>\n",
       "      <th>...</th>\n",
       "      <th>Quantity</th>\n",
       "      <th>Purchase Date</th>\n",
       "      <th>Shipping Type</th>\n",
       "      <th>Amount Add-on</th>\n",
       "      <th>Total Amount</th>\n",
       "      <th>Add-on1</th>\n",
       "      <th>Add-on2</th>\n",
       "      <th>Add-on3</th>\n",
       "      <th>Periode</th>\n",
       "      <th>Age Category</th>\n",
       "    </tr>\n",
       "  </thead>\n",
       "  <tbody>\n",
       "    <tr>\n",
       "      <th>1</th>\n",
       "      <td>1000</td>\n",
       "      <td>53</td>\n",
       "      <td>Male</td>\n",
       "      <td>No</td>\n",
       "      <td>Tablet</td>\n",
       "      <td>SKU1002</td>\n",
       "      <td>3</td>\n",
       "      <td>Completed</td>\n",
       "      <td>PayPal</td>\n",
       "      <td>741.09</td>\n",
       "      <td>...</td>\n",
       "      <td>3</td>\n",
       "      <td>2024-04-20</td>\n",
       "      <td>Overnight</td>\n",
       "      <td>26.09</td>\n",
       "      <td>767.18</td>\n",
       "      <td>Impulse Item</td>\n",
       "      <td>None</td>\n",
       "      <td>None</td>\n",
       "      <td>2024-04</td>\n",
       "      <td>Older Group</td>\n",
       "    </tr>\n",
       "    <tr>\n",
       "      <th>2</th>\n",
       "      <td>1002</td>\n",
       "      <td>41</td>\n",
       "      <td>Male</td>\n",
       "      <td>No</td>\n",
       "      <td>Laptop</td>\n",
       "      <td>SKU1005</td>\n",
       "      <td>3</td>\n",
       "      <td>Completed</td>\n",
       "      <td>Credit Card</td>\n",
       "      <td>1855.84</td>\n",
       "      <td>...</td>\n",
       "      <td>4</td>\n",
       "      <td>2023-10-17</td>\n",
       "      <td>Express</td>\n",
       "      <td>0.00</td>\n",
       "      <td>1855.84</td>\n",
       "      <td>None</td>\n",
       "      <td>None</td>\n",
       "      <td>None</td>\n",
       "      <td>2023-10</td>\n",
       "      <td>Younger Group</td>\n",
       "    </tr>\n",
       "    <tr>\n",
       "      <th>3</th>\n",
       "      <td>1002</td>\n",
       "      <td>41</td>\n",
       "      <td>Male</td>\n",
       "      <td>Yes</td>\n",
       "      <td>Smartphone</td>\n",
       "      <td>SKU1004</td>\n",
       "      <td>2</td>\n",
       "      <td>Completed</td>\n",
       "      <td>Cash</td>\n",
       "      <td>3164.76</td>\n",
       "      <td>...</td>\n",
       "      <td>4</td>\n",
       "      <td>2024-08-09</td>\n",
       "      <td>Overnight</td>\n",
       "      <td>60.16</td>\n",
       "      <td>3224.92</td>\n",
       "      <td>Impulse Item</td>\n",
       "      <td>Impulse Item</td>\n",
       "      <td>None</td>\n",
       "      <td>2024-08</td>\n",
       "      <td>Younger Group</td>\n",
       "    </tr>\n",
       "    <tr>\n",
       "      <th>4</th>\n",
       "      <td>1003</td>\n",
       "      <td>75</td>\n",
       "      <td>Male</td>\n",
       "      <td>Yes</td>\n",
       "      <td>Smartphone</td>\n",
       "      <td>SKU1001</td>\n",
       "      <td>5</td>\n",
       "      <td>Completed</td>\n",
       "      <td>Cash</td>\n",
       "      <td>41.50</td>\n",
       "      <td>...</td>\n",
       "      <td>2</td>\n",
       "      <td>2024-05-21</td>\n",
       "      <td>Express</td>\n",
       "      <td>35.56</td>\n",
       "      <td>77.06</td>\n",
       "      <td>Accessory</td>\n",
       "      <td>None</td>\n",
       "      <td>None</td>\n",
       "      <td>2024-05</td>\n",
       "      <td>Older Group</td>\n",
       "    </tr>\n",
       "    <tr>\n",
       "      <th>5</th>\n",
       "      <td>1004</td>\n",
       "      <td>41</td>\n",
       "      <td>Female</td>\n",
       "      <td>No</td>\n",
       "      <td>Smartphone</td>\n",
       "      <td>SKU1001</td>\n",
       "      <td>5</td>\n",
       "      <td>Completed</td>\n",
       "      <td>Credit Card</td>\n",
       "      <td>83.00</td>\n",
       "      <td>...</td>\n",
       "      <td>4</td>\n",
       "      <td>2024-05-26</td>\n",
       "      <td>Standard</td>\n",
       "      <td>65.78</td>\n",
       "      <td>148.78</td>\n",
       "      <td>Impulse Item</td>\n",
       "      <td>Accessory</td>\n",
       "      <td>None</td>\n",
       "      <td>2024-05</td>\n",
       "      <td>Younger Group</td>\n",
       "    </tr>\n",
       "    <tr>\n",
       "      <th>6</th>\n",
       "      <td>1005</td>\n",
       "      <td>25</td>\n",
       "      <td>Female</td>\n",
       "      <td>No</td>\n",
       "      <td>Smartwatch</td>\n",
       "      <td>SKU1003</td>\n",
       "      <td>3</td>\n",
       "      <td>Completed</td>\n",
       "      <td>PayPal</td>\n",
       "      <td>7603.47</td>\n",
       "      <td>...</td>\n",
       "      <td>9</td>\n",
       "      <td>2024-01-30</td>\n",
       "      <td>Overnight</td>\n",
       "      <td>0.00</td>\n",
       "      <td>7603.47</td>\n",
       "      <td>None</td>\n",
       "      <td>None</td>\n",
       "      <td>None</td>\n",
       "      <td>2024-01</td>\n",
       "      <td>Younger Group</td>\n",
       "    </tr>\n",
       "    <tr>\n",
       "      <th>7</th>\n",
       "      <td>1005</td>\n",
       "      <td>25</td>\n",
       "      <td>Female</td>\n",
       "      <td>No</td>\n",
       "      <td>Laptop</td>\n",
       "      <td>SKU1005</td>\n",
       "      <td>3</td>\n",
       "      <td>Completed</td>\n",
       "      <td>Debit Card</td>\n",
       "      <td>4175.64</td>\n",
       "      <td>...</td>\n",
       "      <td>9</td>\n",
       "      <td>2024-06-24</td>\n",
       "      <td>Overnight</td>\n",
       "      <td>75.33</td>\n",
       "      <td>4250.97</td>\n",
       "      <td>Extended Warranty</td>\n",
       "      <td>Extended Warranty</td>\n",
       "      <td>None</td>\n",
       "      <td>2024-06</td>\n",
       "      <td>Younger Group</td>\n",
       "    </tr>\n",
       "    <tr>\n",
       "      <th>9</th>\n",
       "      <td>1006</td>\n",
       "      <td>24</td>\n",
       "      <td>Male</td>\n",
       "      <td>Yes</td>\n",
       "      <td>Laptop</td>\n",
       "      <td>SKU1005</td>\n",
       "      <td>3</td>\n",
       "      <td>Completed</td>\n",
       "      <td>Cash</td>\n",
       "      <td>4175.64</td>\n",
       "      <td>...</td>\n",
       "      <td>9</td>\n",
       "      <td>2024-01-01</td>\n",
       "      <td>Express</td>\n",
       "      <td>0.00</td>\n",
       "      <td>4175.64</td>\n",
       "      <td>None</td>\n",
       "      <td>None</td>\n",
       "      <td>None</td>\n",
       "      <td>2024-01</td>\n",
       "      <td>Younger Group</td>\n",
       "    </tr>\n",
       "    <tr>\n",
       "      <th>10</th>\n",
       "      <td>1006</td>\n",
       "      <td>24</td>\n",
       "      <td>Male</td>\n",
       "      <td>Yes</td>\n",
       "      <td>Tablet</td>\n",
       "      <td>SKU1002</td>\n",
       "      <td>3</td>\n",
       "      <td>Completed</td>\n",
       "      <td>PayPal</td>\n",
       "      <td>2470.30</td>\n",
       "      <td>...</td>\n",
       "      <td>10</td>\n",
       "      <td>2024-06-25</td>\n",
       "      <td>Overnight</td>\n",
       "      <td>90.38</td>\n",
       "      <td>2560.68</td>\n",
       "      <td>Impulse Item</td>\n",
       "      <td>Accessory</td>\n",
       "      <td>Impulse Item</td>\n",
       "      <td>2024-06</td>\n",
       "      <td>Younger Group</td>\n",
       "    </tr>\n",
       "    <tr>\n",
       "      <th>12</th>\n",
       "      <td>1008</td>\n",
       "      <td>66</td>\n",
       "      <td>Female</td>\n",
       "      <td>No</td>\n",
       "      <td>Smartwatch</td>\n",
       "      <td>SKU1003</td>\n",
       "      <td>3</td>\n",
       "      <td>Completed</td>\n",
       "      <td>Cash</td>\n",
       "      <td>3379.32</td>\n",
       "      <td>...</td>\n",
       "      <td>4</td>\n",
       "      <td>2023-09-25</td>\n",
       "      <td>Express</td>\n",
       "      <td>65.85</td>\n",
       "      <td>3445.17</td>\n",
       "      <td>Extended Warranty</td>\n",
       "      <td>Impulse Item</td>\n",
       "      <td>Extended Warranty</td>\n",
       "      <td>2023-09</td>\n",
       "      <td>Older Group</td>\n",
       "    </tr>\n",
       "  </tbody>\n",
       "</table>\n",
       "<p>10 rows × 21 columns</p>\n",
       "</div>"
      ],
      "text/plain": [
       "    Customer ID  Age  Gender Loyalty Member Product Type      SKU  Rating  \\\n",
       "1          1000   53    Male             No       Tablet  SKU1002       3   \n",
       "2          1002   41    Male             No       Laptop  SKU1005       3   \n",
       "3          1002   41    Male            Yes   Smartphone  SKU1004       2   \n",
       "4          1003   75    Male            Yes   Smartphone  SKU1001       5   \n",
       "5          1004   41  Female             No   Smartphone  SKU1001       5   \n",
       "6          1005   25  Female             No   Smartwatch  SKU1003       3   \n",
       "7          1005   25  Female             No       Laptop  SKU1005       3   \n",
       "9          1006   24    Male            Yes       Laptop  SKU1005       3   \n",
       "10         1006   24    Male            Yes       Tablet  SKU1002       3   \n",
       "12         1008   66  Female             No   Smartwatch  SKU1003       3   \n",
       "\n",
       "   Order Status Payment Method  Amount Product  ...  Quantity  Purchase Date  \\\n",
       "1     Completed         PayPal          741.09  ...         3     2024-04-20   \n",
       "2     Completed    Credit Card         1855.84  ...         4     2023-10-17   \n",
       "3     Completed           Cash         3164.76  ...         4     2024-08-09   \n",
       "4     Completed           Cash           41.50  ...         2     2024-05-21   \n",
       "5     Completed    Credit Card           83.00  ...         4     2024-05-26   \n",
       "6     Completed         PayPal         7603.47  ...         9     2024-01-30   \n",
       "7     Completed     Debit Card         4175.64  ...         9     2024-06-24   \n",
       "9     Completed           Cash         4175.64  ...         9     2024-01-01   \n",
       "10    Completed         PayPal         2470.30  ...        10     2024-06-25   \n",
       "12    Completed           Cash         3379.32  ...         4     2023-09-25   \n",
       "\n",
       "   Shipping Type Amount Add-on  Total Amount            Add-on1  \\\n",
       "1      Overnight         26.09        767.18       Impulse Item   \n",
       "2        Express          0.00       1855.84               None   \n",
       "3      Overnight         60.16       3224.92       Impulse Item   \n",
       "4        Express         35.56         77.06          Accessory   \n",
       "5       Standard         65.78        148.78       Impulse Item   \n",
       "6      Overnight          0.00       7603.47               None   \n",
       "7      Overnight         75.33       4250.97  Extended Warranty   \n",
       "9        Express          0.00       4175.64               None   \n",
       "10     Overnight         90.38       2560.68       Impulse Item   \n",
       "12       Express         65.85       3445.17  Extended Warranty   \n",
       "\n",
       "              Add-on2            Add-on3  Periode   Age Category  \n",
       "1                None               None  2024-04    Older Group  \n",
       "2                None               None  2023-10  Younger Group  \n",
       "3        Impulse Item               None  2024-08  Younger Group  \n",
       "4                None               None  2024-05    Older Group  \n",
       "5           Accessory               None  2024-05  Younger Group  \n",
       "6                None               None  2024-01  Younger Group  \n",
       "7   Extended Warranty               None  2024-06  Younger Group  \n",
       "9                None               None  2024-01  Younger Group  \n",
       "10          Accessory       Impulse Item  2024-06  Younger Group  \n",
       "12       Impulse Item  Extended Warranty  2023-09    Older Group  \n",
       "\n",
       "[10 rows x 21 columns]"
      ]
     },
     "execution_count": 164,
     "metadata": {},
     "output_type": "execute_result"
    }
   ],
   "source": [
    "# Looping dan kondisional untuk entry data kategori usia\n",
    "keteranganUsia = []\n",
    "for i in completed['Age']:\n",
    "    if  i < 50 :\n",
    "      keteranganUsia.append('Younger Group')\n",
    "    elif i >= 50:\n",
    "      keteranganUsia.append('Older Group')\n",
    "\n",
    "# Membuat kolom keterangan usia dan mengisi data kategori usia dari hasil looping\n",
    "completed['Age Category'] = keteranganUsia\n",
    "completed.head(10)"
   ]
  },
  {
   "cell_type": "markdown",
   "metadata": {},
   "source": [
    "Setelah diperoleh Age Category, analisis akan dilakukan menggunakan Chisquare. Metode Chisquare dipilih karena akan diperiksa hubungan antara 2 kategori, yaitu kategori usia dan kategori produk. Oleh karena itu penentuan hipotesisnya adalah sebagai berikut:\n",
    "\n",
    "H0: Tidak ada hubungan antara kategori produk dan kategori usia\n",
    "\n",
    "H1: Ada hubungan antara kategori produk dan kategori usia\n"
   ]
  },
  {
   "cell_type": "code",
   "execution_count": 165,
   "metadata": {},
   "outputs": [
    {
     "data": {
      "text/html": [
       "<div>\n",
       "<style scoped>\n",
       "    .dataframe tbody tr th:only-of-type {\n",
       "        vertical-align: middle;\n",
       "    }\n",
       "\n",
       "    .dataframe tbody tr th {\n",
       "        vertical-align: top;\n",
       "    }\n",
       "\n",
       "    .dataframe thead th {\n",
       "        text-align: right;\n",
       "    }\n",
       "</style>\n",
       "<table border=\"1\" class=\"dataframe\">\n",
       "  <thead>\n",
       "    <tr style=\"text-align: right;\">\n",
       "      <th>Product Type</th>\n",
       "      <th>Headphones</th>\n",
       "      <th>Laptop</th>\n",
       "      <th>Smartphone</th>\n",
       "      <th>Smartwatch</th>\n",
       "      <th>Tablet</th>\n",
       "    </tr>\n",
       "    <tr>\n",
       "      <th>Age Category</th>\n",
       "      <th></th>\n",
       "      <th></th>\n",
       "      <th></th>\n",
       "      <th></th>\n",
       "      <th></th>\n",
       "    </tr>\n",
       "  </thead>\n",
       "  <tbody>\n",
       "    <tr>\n",
       "      <th>Older Group</th>\n",
       "      <td>646</td>\n",
       "      <td>1300</td>\n",
       "      <td>1955</td>\n",
       "      <td>1339</td>\n",
       "      <td>1353</td>\n",
       "    </tr>\n",
       "    <tr>\n",
       "      <th>Younger Group</th>\n",
       "      <td>715</td>\n",
       "      <td>1386</td>\n",
       "      <td>2049</td>\n",
       "      <td>1297</td>\n",
       "      <td>1392</td>\n",
       "    </tr>\n",
       "  </tbody>\n",
       "</table>\n",
       "</div>"
      ],
      "text/plain": [
       "Product Type   Headphones  Laptop  Smartphone  Smartwatch  Tablet\n",
       "Age Category                                                     \n",
       "Older Group           646    1300        1955        1339    1353\n",
       "Younger Group         715    1386        2049        1297    1392"
      ]
     },
     "execution_count": 165,
     "metadata": {},
     "output_type": "execute_result"
    }
   ],
   "source": [
    "# Contingency Table\n",
    "contingencyTable = pd.crosstab(completed['Age Category'], completed['Product Type'])\n",
    "contingencyTable"
   ]
  },
  {
   "cell_type": "code",
   "execution_count": 166,
   "metadata": {},
   "outputs": [
    {
     "name": "stdout",
     "output_type": "stream",
     "text": [
      "p-value: 0.26950038106317986\n"
     ]
    }
   ],
   "source": [
    "result = stats.chi2_contingency(contingencyTable)\n",
    "print(\"p-value:\",result.pvalue)"
   ]
  },
  {
   "cell_type": "markdown",
   "metadata": {},
   "source": [
    "Dengan Confidence Level 95% (critical value = 0.05) maka, p-value > 0.05. Artinya, gagal menolak H0 dan tidak ada hubungan antara kategori produk dan kategori usia. Oleh karena itu, dapat dilakukan pendekatan strategi pemasaran yang lebih general untuk menjangkau semua usia, bersifat universalh dan tidak segmentatif."
   ]
  },
  {
   "cell_type": "markdown",
   "metadata": {},
   "source": [
    "## 4.12. Korelasi Loyalty Member dengan Total Spending"
   ]
  },
  {
   "cell_type": "markdown",
   "metadata": {},
   "source": [
    "Analisis ini bertujuan untuk memahami hubungan antara rata-rata pembelian customer dengan status loyalty member. Apakah terdapat perbedaan yang signifikan dalam rata-rata pengeluaran antara pelanggan yang mmerupakan member dan yang bukan member. Hasil dari analisis ini dapat memberikan informasi kepada pemilik toko untuk mengevaluasi efektivitas program customer loyalty, sekaligus membantu merancang strategi promosi atau insentif yang lebih efektif untuk meningkatkan penjualan, baik untuk member maupun non-member.\n",
    "\n",
    "Untuk analisa ini dilakukan pengujian statistik dengan metode `Independent Two-Sampel t-Test`. Metode ini dipilih karena membandingkan total spending antara customer dengan loyalty member dan tanpa loyalty member. Penentuan hipotesisnya adalah sebagai berikut:\n",
    "\n",
    "**H0**: Tidak ada perbedaan rata-rata total spending antara customer dengan loyalty member dan customer tanpa loyalty member\n",
    "\n",
    "**H1**: Ada perbedaan rata-rata total spending antara customer dengan loyalty member dan customer tanpa loyalty member"
   ]
  },
  {
   "cell_type": "code",
   "execution_count": 167,
   "metadata": {},
   "outputs": [],
   "source": [
    "# Mengelompokkan spending customer dengan loyalty member\n",
    "yes = completed[completed['Loyalty Member'].str.contains('yes', case = False)]\n",
    "\n",
    "# Mengelompokkan spending customer tanpa loyalty member\n",
    "no = completed[completed['Loyalty Member'].str.contains('no', case = False)]"
   ]
  },
  {
   "cell_type": "code",
   "execution_count": 168,
   "metadata": {},
   "outputs": [
    {
     "name": "stdout",
     "output_type": "stream",
     "text": [
      "p-value: 0.16952063428436467\n"
     ]
    }
   ],
   "source": [
    "# Uji Independent Two-Sample t-test\n",
    "pvalue = stats.ttest_ind(yes['Total Amount'], no['Total Amount']).pvalue\n",
    "print('p-value:', pvalue) "
   ]
  },
  {
   "cell_type": "markdown",
   "metadata": {},
   "source": [
    "Dari hasil pengujian statistik, dengan confidence interval 95%(critical value: 0.05) maka, p-value > critical value. \n",
    "\n",
    "Maka, hasilnya adalah gagal menolak H0. Tidak ada perbedaan antara rata-rata total spending customer dengan loyalty member dan customer tanpa loyalty member.\n",
    "\n",
    "Hal ini mengindikasikan bahwa program loyalty member perlu di evaluasi ulang dengan memastikan bahwa benefit loyalty member benar-benar menguntungkan dan dipahami oleh customer. Selain itu perlu dipastikan ulang apakah keuntungan menjadi member cukup menarik bagi customer. Keuntungan yang dapat diberikan seperti diskon eksklusif, poin reward, atau cashback."
   ]
  },
  {
   "cell_type": "markdown",
   "metadata": {},
   "source": [
    "# 5. Kesimpulan"
   ]
  },
  {
   "cell_type": "markdown",
   "metadata": {},
   "source": [
    "Dari hasil analisa dan perhitungan yang sudah dilakukan diperoleh informasi bahwa:\n",
    "\n",
    "- Presentase jumlah order yang cancelled adalah 32.84% dan yang completed adalah 67.16%. Pembatalan order kemungkinan disebabkan oleh beberapa hal, salah satunya adalah total amount dengan nominal yang besar. Namun, setelah dilakukan uji statistik, diperoleh data bahwa tidak cukup bukti untuk menolak H0 yang artinya tidak ada perbedaan rata-rata spending antara customer yang melakukan pembatalan order dan yang ordernya berhasil selesai. Sehingga kemungkinan customer order bukan disebabkan oleh total amount yang tinggi.\n",
    "\n",
    "- Metode pembayaran yang sering dipilih oleh customer adalah Credit Card dan PayPal. Sehingga, hal ini dapat menjadi bahan pertimbangan untuk pemberian promo diskon, cashback dengan Credit Card atau PayPal untuk meningkatkan ketertarikan customer dan meningkatkan penjualan.\n",
    "\n",
    "- Metode pengiriman yang paling sering dipilih oleh customer adalah Standard. Hal ini bisa menjadi pertimbangan pemilik toko untuk bekerja sama dengan pihak jasa kirim yang melayani pengiriman Standard. Dengan memberikan volume pengiriman yang tinggi kepada pihak jasa kirim dapat menekan biaya pengiriman. Selain itu, jika biaya pengiriman dapat ditekan, pemilik toko dapat menawarkan biaya kirim yang lebih rendah ke customer, sehingga customer akan lebih tertarik dan nyaman untuk membeli. \n",
    "\n",
    "- Tren penjualan memiliki kenaikan tertinggi di awal tahun, hal ini kemungkinan disebabkan karena banyak pekerja yang mendapatkan bonus akhir tahun sehingga daya beli meningkat. Hal ini dapat menjadi pertimbangan pemilik toko untuk memberikan promo dan menjual produk baru. Sedangkan di Agustus 2024 grafik memiliki tren menurun, sehingga perlu menjadi evaluasi pemilik toko untuk meningkatkan penjualan misalnya dengan melakukan promosi, memberikan promo bundling menuju akhir tahun.\n",
    "\n",
    "- Tren penjualan tiap kategori produk periode September 2023-September 2024 diperoleh informasi bahwa Smartphone mendominasi penjualan. Hal ini membantu pemilik toko untuk mengoptimalkan stok produk. Sehingga dapat menghindari kemungkinan pembatalan order karna barang kosong.\n",
    "\n",
    "- Tidak ada perbedaan total spending antar Gender. Sehingga target pemasaran dapat dilakukan dengan lebih general\n",
    "\n",
    "- Rata-rata penjualan toko per bulan adalah 3.622.100 dollar.\n",
    "\n",
    "- Dari perhitungan distribusi usia customer diperoleh informasi bahwa rata-rata usia customer adalah 48-49 tahun dan banyak customer yang melakukan pembelian di usia 61 tahun. Hal ini dapat meembantu pemilik toko memilih strategi pemasaran yang tepat untuk meningkatkan penjualan dan update produk baru sesuai dengan usia kebutuhan customer. Misalnya dengan menawarkan produk dengan fitur yang mudah digunakan, daya tahan yang kuat.\n",
    "\n",
    "- Untuk rating tiap kategori produk masih di sekitar 3 dari 5. Artinya penilaian produk berdasarkan customer masih biasa saja. Hal ini dapat menjadi evaluasi bagi pemilik toko untuk mencari produk dengan kualitas yang lebih baik agar dapat menarik lebih banyak pelanggan dan mempertahankan customer yang sudah ada.\n",
    "\n",
    "- Add-on yang dipilih oleh customer tidak memiliki perbedaan signifikan antara jumlahnya. \n",
    "\n",
    "- Tidak ada hubungan antara kategori produk dan kategori usia. Oleh karena itu, dapat dilakukan pendekatan strategi pemasaran yang lebih general untuk menjangkau semua usia, bersifat universalh dan tidak segmentatif.\n",
    "\n",
    "- Tidak ada perbedaan antara rata-rata total spending customer dengan loyalty member dan customer tanpa loyalty member. Sehingga, program loyalty member perlu di evaluasi ulang dan dipastikan bahwa benefit loyalty member benar-benar menguntungkan dan dipahami oleh customer. Selain itu perlu dipastikan ulang apakah keuntungan menjadi member cukup menarik bagi customer. Keuntungan yang dapat diberikan seperti diskon eksklusif, poin reward, atau cashback.\n"
   ]
  },
  {
   "cell_type": "markdown",
   "metadata": {},
   "source": []
  }
 ],
 "metadata": {
  "kernelspec": {
   "display_name": "base",
   "language": "python",
   "name": "python3"
  },
  "language_info": {
   "codemirror_mode": {
    "name": "ipython",
    "version": 3
   },
   "file_extension": ".py",
   "mimetype": "text/x-python",
   "name": "python",
   "nbconvert_exporter": "python",
   "pygments_lexer": "ipython3",
   "version": "3.9.19"
  }
 },
 "nbformat": 4,
 "nbformat_minor": 2
}
